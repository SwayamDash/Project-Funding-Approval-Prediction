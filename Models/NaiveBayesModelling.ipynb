{
  "cells": [
    {
      "cell_type": "code",
      "execution_count": 1,
      "metadata": {
        "colab": {
          "base_uri": "https://localhost:8080/"
        },
        "id": "aljpOabrea8U",
        "outputId": "d9e86aef-adfa-4973-bd56-be953ca17a03"
      },
      "outputs": [
        {
          "name": "stdout",
          "output_type": "stream",
          "text": [
            "Collecting contractions\n",
            "  Downloading contractions-0.1.73-py2.py3-none-any.whl (8.7 kB)\n",
            "Collecting textsearch>=0.0.21 (from contractions)\n",
            "  Downloading textsearch-0.0.24-py2.py3-none-any.whl (7.6 kB)\n",
            "Collecting anyascii (from textsearch>=0.0.21->contractions)\n",
            "  Downloading anyascii-0.3.2-py3-none-any.whl (289 kB)\n",
            "\u001b[2K     \u001b[90m━━━━━━━━━━━━━━━━━━━━━━━━━━━━━━━━━━━━━━\u001b[0m \u001b[32m289.9/289.9 kB\u001b[0m \u001b[31m16.5 MB/s\u001b[0m eta \u001b[36m0:00:00\u001b[0m\n",
            "\u001b[?25hCollecting pyahocorasick (from textsearch>=0.0.21->contractions)\n",
            "  Downloading pyahocorasick-2.0.0-cp310-cp310-manylinux_2_5_x86_64.manylinux1_x86_64.manylinux_2_12_x86_64.manylinux2010_x86_64.whl (110 kB)\n",
            "\u001b[2K     \u001b[90m━━━━━━━━━━━━━━━━━━━━━━━━━━━━━━━━━━━━━━━\u001b[0m \u001b[32m110.8/110.8 kB\u001b[0m \u001b[31m7.9 MB/s\u001b[0m eta \u001b[36m0:00:00\u001b[0m\n",
            "\u001b[?25hInstalling collected packages: pyahocorasick, anyascii, textsearch, contractions\n",
            "Successfully installed anyascii-0.3.2 contractions-0.1.73 pyahocorasick-2.0.0 textsearch-0.0.24\n"
          ]
        },
        {
          "name": "stderr",
          "output_type": "stream",
          "text": [
            "[nltk_data] Downloading package punkt to /root/nltk_data...\n",
            "[nltk_data]   Unzipping tokenizers/punkt.zip.\n",
            "[nltk_data] Downloading package stopwords to /root/nltk_data...\n",
            "[nltk_data]   Unzipping corpora/stopwords.zip.\n",
            "[nltk_data] Downloading package wordnet to /root/nltk_data...\n",
            "[nltk_data] Downloading package averaged_perceptron_tagger to\n",
            "[nltk_data]     /root/nltk_data...\n",
            "[nltk_data]   Unzipping taggers/averaged_perceptron_tagger.zip.\n",
            "[nltk_data] Downloading package tagsets to /root/nltk_data...\n",
            "[nltk_data]   Unzipping help/tagsets.zip.\n",
            "[nltk_data] Downloading package universal_tagset to /root/nltk_data...\n",
            "[nltk_data]   Unzipping taggers/universal_tagset.zip.\n",
            "[nltk_data] Downloading package treebank to /root/nltk_data...\n",
            "[nltk_data]   Unzipping corpora/treebank.zip.\n"
          ]
        }
      ],
      "source": [
        "# libraries to display df and images\n",
        "from IPython.display import display\n",
        "from PIL import Image\n",
        "from pprint import pprint\n",
        "from tqdm.notebook import tqdm\n",
        "tqdm.pandas()\n",
        "\n",
        "# For vizualization\n",
        "import matplotlib.pyplot as plt\n",
        "import seaborn as sns\n",
        "import pandas as pd\n",
        "import numpy as np\n",
        "from scipy import stats\n",
        "from scipy.sparse import hstack as hs\n",
        "import statsmodels as sm\n",
        "from pylab import *\n",
        "\n",
        "# Inbuilt library to work with textual data\n",
        "import string\n",
        "import re\n",
        "\n",
        "# Setting up the NLTK to pre-processing textual data\n",
        "import spacy\n",
        "import nltk\n",
        "from nltk.corpus import stopwords, wordnet\n",
        "from nltk.stem import PorterStemmer, LancasterStemmer, SnowballStemmer, WordNetLemmatizer\n",
        "from nltk.tokenize import word_tokenize, sent_tokenize\n",
        "!pip install contractions\n",
        "import contractions\n",
        "nltk.download('punkt')\n",
        "nltk.download('stopwords')\n",
        "nltk.download('wordnet')\n",
        "nltk.download('averaged_perceptron_tagger')\n",
        "nltk.download('tagsets')\n",
        "nltk.download('universal_tagset')\n",
        "nltk.download('treebank')\n",
        "\n",
        "# Ignore all the warnings\n",
        "import warnings\n",
        "warnings.filterwarnings('ignore')"
      ]
    },
    {
      "cell_type": "code",
      "execution_count": 2,
      "metadata": {
        "colab": {
          "base_uri": "https://localhost:8080/",
          "height": 297
        },
        "id": "sA-SAUFUBISv",
        "outputId": "0e80f74c-7ae2-4437-ee75-3609b4228a1c"
      },
      "outputs": [
        {
          "data": {
            "text/html": [
              "\n",
              "\n",
              "  <div id=\"df-65022141-7b5c-4b75-a4da-479e8a68574f\">\n",
              "    <div class=\"colab-df-container\">\n",
              "      <div>\n",
              "<style scoped>\n",
              "    .dataframe tbody tr th:only-of-type {\n",
              "        vertical-align: middle;\n",
              "    }\n",
              "\n",
              "    .dataframe tbody tr th {\n",
              "        vertical-align: top;\n",
              "    }\n",
              "\n",
              "    .dataframe thead th {\n",
              "        text-align: right;\n",
              "    }\n",
              "</style>\n",
              "<table border=\"1\" class=\"dataframe\">\n",
              "  <thead>\n",
              "    <tr style=\"text-align: right;\">\n",
              "      <th></th>\n",
              "      <th>school_state</th>\n",
              "      <th>project_grade_category</th>\n",
              "      <th>project_subject_categories</th>\n",
              "      <th>project_subject_subcategories</th>\n",
              "      <th>project_title</th>\n",
              "      <th>teacher_number_of_previously_posted_projects</th>\n",
              "      <th>project_submitted_month</th>\n",
              "      <th>project_submitted_year</th>\n",
              "      <th>teacher_gender</th>\n",
              "      <th>price</th>\n",
              "      <th>project_essay</th>\n",
              "      <th>project_is_approved</th>\n",
              "      <th>processed_project_essay</th>\n",
              "      <th>processed_project_title</th>\n",
              "      <th>processed_project_subject_categories</th>\n",
              "      <th>processed_project_subject_subcategories</th>\n",
              "    </tr>\n",
              "  </thead>\n",
              "  <tbody>\n",
              "    <tr>\n",
              "      <th>0</th>\n",
              "      <td>IN</td>\n",
              "      <td>grades_prek-2</td>\n",
              "      <td>Literacy_Language</td>\n",
              "      <td>ESL Literacy</td>\n",
              "      <td>Educational Support for English Learners at Home</td>\n",
              "      <td>0</td>\n",
              "      <td>12</td>\n",
              "      <td>2016</td>\n",
              "      <td>Female</td>\n",
              "      <td>4.445</td>\n",
              "      <td>My students are English learners that are work...</td>\n",
              "      <td>0</td>\n",
              "      <td>student english learner work english second la...</td>\n",
              "      <td>educational support english learner home</td>\n",
              "      <td>literacy language</td>\n",
              "      <td>esl literacy</td>\n",
              "    </tr>\n",
              "    <tr>\n",
              "      <th>1</th>\n",
              "      <td>FL</td>\n",
              "      <td>grades_6-8</td>\n",
              "      <td>History_Civics Health_Sports</td>\n",
              "      <td>Civics_Government Team_Sports</td>\n",
              "      <td>Wanted: Projector for Hungry Learners</td>\n",
              "      <td>7</td>\n",
              "      <td>10</td>\n",
              "      <td>2016</td>\n",
              "      <td>Male</td>\n",
              "      <td>5.700</td>\n",
              "      <td>Our students arrive to our school eager to lea...</td>\n",
              "      <td>1</td>\n",
              "      <td>student arrive school eager learn  polite gene...</td>\n",
              "      <td>want projector hungry learner</td>\n",
              "      <td>history civic health sport</td>\n",
              "      <td>civics government team sport</td>\n",
              "    </tr>\n",
              "  </tbody>\n",
              "</table>\n",
              "</div>\n",
              "      <button class=\"colab-df-convert\" onclick=\"convertToInteractive('df-65022141-7b5c-4b75-a4da-479e8a68574f')\"\n",
              "              title=\"Convert this dataframe to an interactive table.\"\n",
              "              style=\"display:none;\">\n",
              "\n",
              "  <svg xmlns=\"http://www.w3.org/2000/svg\" height=\"24px\"viewBox=\"0 0 24 24\"\n",
              "       width=\"24px\">\n",
              "    <path d=\"M0 0h24v24H0V0z\" fill=\"none\"/>\n",
              "    <path d=\"M18.56 5.44l.94 2.06.94-2.06 2.06-.94-2.06-.94-.94-2.06-.94 2.06-2.06.94zm-11 1L8.5 8.5l.94-2.06 2.06-.94-2.06-.94L8.5 2.5l-.94 2.06-2.06.94zm10 10l.94 2.06.94-2.06 2.06-.94-2.06-.94-.94-2.06-.94 2.06-2.06.94z\"/><path d=\"M17.41 7.96l-1.37-1.37c-.4-.4-.92-.59-1.43-.59-.52 0-1.04.2-1.43.59L10.3 9.45l-7.72 7.72c-.78.78-.78 2.05 0 2.83L4 21.41c.39.39.9.59 1.41.59.51 0 1.02-.2 1.41-.59l7.78-7.78 2.81-2.81c.8-.78.8-2.07 0-2.86zM5.41 20L4 18.59l7.72-7.72 1.47 1.35L5.41 20z\"/>\n",
              "  </svg>\n",
              "      </button>\n",
              "\n",
              "\n",
              "\n",
              "    <div id=\"df-ab24a1b9-a2cd-49bc-be86-bc2cfefba3f6\">\n",
              "      <button class=\"colab-df-quickchart\" onclick=\"quickchart('df-ab24a1b9-a2cd-49bc-be86-bc2cfefba3f6')\"\n",
              "              title=\"Suggest charts.\"\n",
              "              style=\"display:none;\">\n",
              "\n",
              "<svg xmlns=\"http://www.w3.org/2000/svg\" height=\"24px\"viewBox=\"0 0 24 24\"\n",
              "     width=\"24px\">\n",
              "    <g>\n",
              "        <path d=\"M19 3H5c-1.1 0-2 .9-2 2v14c0 1.1.9 2 2 2h14c1.1 0 2-.9 2-2V5c0-1.1-.9-2-2-2zM9 17H7v-7h2v7zm4 0h-2V7h2v10zm4 0h-2v-4h2v4z\"/>\n",
              "    </g>\n",
              "</svg>\n",
              "      </button>\n",
              "    </div>\n",
              "\n",
              "<style>\n",
              "  .colab-df-quickchart {\n",
              "    background-color: #E8F0FE;\n",
              "    border: none;\n",
              "    border-radius: 50%;\n",
              "    cursor: pointer;\n",
              "    display: none;\n",
              "    fill: #1967D2;\n",
              "    height: 32px;\n",
              "    padding: 0 0 0 0;\n",
              "    width: 32px;\n",
              "  }\n",
              "\n",
              "  .colab-df-quickchart:hover {\n",
              "    background-color: #E2EBFA;\n",
              "    box-shadow: 0px 1px 2px rgba(60, 64, 67, 0.3), 0px 1px 3px 1px rgba(60, 64, 67, 0.15);\n",
              "    fill: #174EA6;\n",
              "  }\n",
              "\n",
              "  [theme=dark] .colab-df-quickchart {\n",
              "    background-color: #3B4455;\n",
              "    fill: #D2E3FC;\n",
              "  }\n",
              "\n",
              "  [theme=dark] .colab-df-quickchart:hover {\n",
              "    background-color: #434B5C;\n",
              "    box-shadow: 0px 1px 3px 1px rgba(0, 0, 0, 0.15);\n",
              "    filter: drop-shadow(0px 1px 2px rgba(0, 0, 0, 0.3));\n",
              "    fill: #FFFFFF;\n",
              "  }\n",
              "</style>\n",
              "\n",
              "    <script>\n",
              "      async function quickchart(key) {\n",
              "        const containerElement = document.querySelector('#' + key);\n",
              "        const charts = await google.colab.kernel.invokeFunction(\n",
              "            'suggestCharts', [key], {});\n",
              "      }\n",
              "    </script>\n",
              "\n",
              "      <script>\n",
              "\n",
              "function displayQuickchartButton(domScope) {\n",
              "  let quickchartButtonEl =\n",
              "    domScope.querySelector('#df-ab24a1b9-a2cd-49bc-be86-bc2cfefba3f6 button.colab-df-quickchart');\n",
              "  quickchartButtonEl.style.display =\n",
              "    google.colab.kernel.accessAllowed ? 'block' : 'none';\n",
              "}\n",
              "\n",
              "        displayQuickchartButton(document);\n",
              "      </script>\n",
              "      <style>\n",
              "    .colab-df-container {\n",
              "      display:flex;\n",
              "      flex-wrap:wrap;\n",
              "      gap: 12px;\n",
              "    }\n",
              "\n",
              "    .colab-df-convert {\n",
              "      background-color: #E8F0FE;\n",
              "      border: none;\n",
              "      border-radius: 50%;\n",
              "      cursor: pointer;\n",
              "      display: none;\n",
              "      fill: #1967D2;\n",
              "      height: 32px;\n",
              "      padding: 0 0 0 0;\n",
              "      width: 32px;\n",
              "    }\n",
              "\n",
              "    .colab-df-convert:hover {\n",
              "      background-color: #E2EBFA;\n",
              "      box-shadow: 0px 1px 2px rgba(60, 64, 67, 0.3), 0px 1px 3px 1px rgba(60, 64, 67, 0.15);\n",
              "      fill: #174EA6;\n",
              "    }\n",
              "\n",
              "    [theme=dark] .colab-df-convert {\n",
              "      background-color: #3B4455;\n",
              "      fill: #D2E3FC;\n",
              "    }\n",
              "\n",
              "    [theme=dark] .colab-df-convert:hover {\n",
              "      background-color: #434B5C;\n",
              "      box-shadow: 0px 1px 3px 1px rgba(0, 0, 0, 0.15);\n",
              "      filter: drop-shadow(0px 1px 2px rgba(0, 0, 0, 0.3));\n",
              "      fill: #FFFFFF;\n",
              "    }\n",
              "  </style>\n",
              "\n",
              "      <script>\n",
              "        const buttonEl =\n",
              "          document.querySelector('#df-65022141-7b5c-4b75-a4da-479e8a68574f button.colab-df-convert');\n",
              "        buttonEl.style.display =\n",
              "          google.colab.kernel.accessAllowed ? 'block' : 'none';\n",
              "\n",
              "        async function convertToInteractive(key) {\n",
              "          const element = document.querySelector('#df-65022141-7b5c-4b75-a4da-479e8a68574f');\n",
              "          const dataTable =\n",
              "            await google.colab.kernel.invokeFunction('convertToInteractive',\n",
              "                                                     [key], {});\n",
              "          if (!dataTable) return;\n",
              "\n",
              "          const docLinkHtml = 'Like what you see? Visit the ' +\n",
              "            '<a target=\"_blank\" href=https://colab.research.google.com/notebooks/data_table.ipynb>data table notebook</a>'\n",
              "            + ' to learn more about interactive tables.';\n",
              "          element.innerHTML = '';\n",
              "          dataTable['output_type'] = 'display_data';\n",
              "          await google.colab.output.renderOutput(dataTable, element);\n",
              "          const docLink = document.createElement('div');\n",
              "          docLink.innerHTML = docLinkHtml;\n",
              "          element.appendChild(docLink);\n",
              "        }\n",
              "      </script>\n",
              "    </div>\n",
              "  </div>\n"
            ],
            "text/plain": [
              "  school_state project_grade_category    project_subject_categories  \\\n",
              "0           IN          grades_prek-2             Literacy_Language   \n",
              "1           FL             grades_6-8  History_Civics Health_Sports   \n",
              "\n",
              "   project_subject_subcategories  \\\n",
              "0                   ESL Literacy   \n",
              "1  Civics_Government Team_Sports   \n",
              "\n",
              "                                      project_title  \\\n",
              "0  Educational Support for English Learners at Home   \n",
              "1             Wanted: Projector for Hungry Learners   \n",
              "\n",
              "   teacher_number_of_previously_posted_projects  project_submitted_month  \\\n",
              "0                                             0                       12   \n",
              "1                                             7                       10   \n",
              "\n",
              "   project_submitted_year teacher_gender  price  \\\n",
              "0                    2016         Female  4.445   \n",
              "1                    2016           Male  5.700   \n",
              "\n",
              "                                       project_essay  project_is_approved  \\\n",
              "0  My students are English learners that are work...                    0   \n",
              "1  Our students arrive to our school eager to lea...                    1   \n",
              "\n",
              "                             processed_project_essay  \\\n",
              "0  student english learner work english second la...   \n",
              "1  student arrive school eager learn  polite gene...   \n",
              "\n",
              "                    processed_project_title  \\\n",
              "0  educational support english learner home   \n",
              "1             want projector hungry learner   \n",
              "\n",
              "  processed_project_subject_categories processed_project_subject_subcategories  \n",
              "0                    literacy language                            esl literacy  \n",
              "1           history civic health sport            civics government team sport  "
            ]
          },
          "execution_count": 2,
          "metadata": {},
          "output_type": "execute_result"
        }
      ],
      "source": [
        "df = pd.read_csv(\"/content/drive/MyDrive/Colab Notebooks/DonorsChoose/Datasets/Processed Data/Processed_data_final.csv\")\n",
        "df.head(2)"
      ]
    },
    {
      "cell_type": "markdown",
      "metadata": {
        "id": "49SIYmDIkJ1k"
      },
      "source": [
        "After a thorough EDA, taking into account the following details we can drop the columns below.\n",
        "\n",
        "1.   evaluated correlation/collinearity among the features\n",
        "2.   importance of the features towards the target variable\n",
        "3.   skewness of data related to a single feature(removed to avoid bias)\n"
      ]
    },
    {
      "cell_type": "code",
      "execution_count": 3,
      "metadata": {
        "id": "X-AXFF2igQit"
      },
      "outputs": [],
      "source": [
        "cols = [ 'project_subject_categories', 'project_subject_subcategories', 'project_title','project_essay']\n",
        "df.drop(cols, axis=1, inplace=True)"
      ]
    },
    {
      "cell_type": "code",
      "execution_count": 4,
      "metadata": {
        "id": "mmtLaUJC-Jkk"
      },
      "outputs": [],
      "source": [
        "df[\"teacher_number_of_previously_posted_projects\"] = np.log1p(df['teacher_number_of_previously_posted_projects'].values)"
      ]
    },
    {
      "cell_type": "code",
      "execution_count": 5,
      "metadata": {
        "colab": {
          "base_uri": "https://localhost:8080/",
          "height": 211
        },
        "id": "A6_dRQeppyQI",
        "outputId": "580f6470-bdb1-4cb3-d758-387bc4fe5973"
      },
      "outputs": [
        {
          "data": {
            "text/html": [
              "\n",
              "\n",
              "  <div id=\"df-aabd7612-c887-4ba7-8a15-ff0a8fb7d150\">\n",
              "    <div class=\"colab-df-container\">\n",
              "      <div>\n",
              "<style scoped>\n",
              "    .dataframe tbody tr th:only-of-type {\n",
              "        vertical-align: middle;\n",
              "    }\n",
              "\n",
              "    .dataframe tbody tr th {\n",
              "        vertical-align: top;\n",
              "    }\n",
              "\n",
              "    .dataframe thead th {\n",
              "        text-align: right;\n",
              "    }\n",
              "</style>\n",
              "<table border=\"1\" class=\"dataframe\">\n",
              "  <thead>\n",
              "    <tr style=\"text-align: right;\">\n",
              "      <th></th>\n",
              "      <th>school_state</th>\n",
              "      <th>project_grade_category</th>\n",
              "      <th>teacher_number_of_previously_posted_projects</th>\n",
              "      <th>project_submitted_month</th>\n",
              "      <th>project_submitted_year</th>\n",
              "      <th>teacher_gender</th>\n",
              "      <th>price</th>\n",
              "      <th>project_is_approved</th>\n",
              "      <th>processed_project_essay</th>\n",
              "      <th>processed_project_title</th>\n",
              "      <th>processed_project_subject_categories</th>\n",
              "      <th>processed_project_subject_subcategories</th>\n",
              "    </tr>\n",
              "  </thead>\n",
              "  <tbody>\n",
              "    <tr>\n",
              "      <th>0</th>\n",
              "      <td>IN</td>\n",
              "      <td>grades_prek-2</td>\n",
              "      <td>0.000000</td>\n",
              "      <td>12</td>\n",
              "      <td>2016</td>\n",
              "      <td>Female</td>\n",
              "      <td>4.445</td>\n",
              "      <td>0</td>\n",
              "      <td>student english learner work english second la...</td>\n",
              "      <td>educational support english learner home</td>\n",
              "      <td>literacy language</td>\n",
              "      <td>esl literacy</td>\n",
              "    </tr>\n",
              "    <tr>\n",
              "      <th>1</th>\n",
              "      <td>FL</td>\n",
              "      <td>grades_6-8</td>\n",
              "      <td>2.079442</td>\n",
              "      <td>10</td>\n",
              "      <td>2016</td>\n",
              "      <td>Male</td>\n",
              "      <td>5.700</td>\n",
              "      <td>1</td>\n",
              "      <td>student arrive school eager learn  polite gene...</td>\n",
              "      <td>want projector hungry learner</td>\n",
              "      <td>history civic health sport</td>\n",
              "      <td>civics government team sport</td>\n",
              "    </tr>\n",
              "  </tbody>\n",
              "</table>\n",
              "</div>\n",
              "      <button class=\"colab-df-convert\" onclick=\"convertToInteractive('df-aabd7612-c887-4ba7-8a15-ff0a8fb7d150')\"\n",
              "              title=\"Convert this dataframe to an interactive table.\"\n",
              "              style=\"display:none;\">\n",
              "\n",
              "  <svg xmlns=\"http://www.w3.org/2000/svg\" height=\"24px\"viewBox=\"0 0 24 24\"\n",
              "       width=\"24px\">\n",
              "    <path d=\"M0 0h24v24H0V0z\" fill=\"none\"/>\n",
              "    <path d=\"M18.56 5.44l.94 2.06.94-2.06 2.06-.94-2.06-.94-.94-2.06-.94 2.06-2.06.94zm-11 1L8.5 8.5l.94-2.06 2.06-.94-2.06-.94L8.5 2.5l-.94 2.06-2.06.94zm10 10l.94 2.06.94-2.06 2.06-.94-2.06-.94-.94-2.06-.94 2.06-2.06.94z\"/><path d=\"M17.41 7.96l-1.37-1.37c-.4-.4-.92-.59-1.43-.59-.52 0-1.04.2-1.43.59L10.3 9.45l-7.72 7.72c-.78.78-.78 2.05 0 2.83L4 21.41c.39.39.9.59 1.41.59.51 0 1.02-.2 1.41-.59l7.78-7.78 2.81-2.81c.8-.78.8-2.07 0-2.86zM5.41 20L4 18.59l7.72-7.72 1.47 1.35L5.41 20z\"/>\n",
              "  </svg>\n",
              "      </button>\n",
              "\n",
              "\n",
              "\n",
              "    <div id=\"df-bb1379c8-200b-4294-ab4d-ed9ef23571c6\">\n",
              "      <button class=\"colab-df-quickchart\" onclick=\"quickchart('df-bb1379c8-200b-4294-ab4d-ed9ef23571c6')\"\n",
              "              title=\"Suggest charts.\"\n",
              "              style=\"display:none;\">\n",
              "\n",
              "<svg xmlns=\"http://www.w3.org/2000/svg\" height=\"24px\"viewBox=\"0 0 24 24\"\n",
              "     width=\"24px\">\n",
              "    <g>\n",
              "        <path d=\"M19 3H5c-1.1 0-2 .9-2 2v14c0 1.1.9 2 2 2h14c1.1 0 2-.9 2-2V5c0-1.1-.9-2-2-2zM9 17H7v-7h2v7zm4 0h-2V7h2v10zm4 0h-2v-4h2v4z\"/>\n",
              "    </g>\n",
              "</svg>\n",
              "      </button>\n",
              "    </div>\n",
              "\n",
              "<style>\n",
              "  .colab-df-quickchart {\n",
              "    background-color: #E8F0FE;\n",
              "    border: none;\n",
              "    border-radius: 50%;\n",
              "    cursor: pointer;\n",
              "    display: none;\n",
              "    fill: #1967D2;\n",
              "    height: 32px;\n",
              "    padding: 0 0 0 0;\n",
              "    width: 32px;\n",
              "  }\n",
              "\n",
              "  .colab-df-quickchart:hover {\n",
              "    background-color: #E2EBFA;\n",
              "    box-shadow: 0px 1px 2px rgba(60, 64, 67, 0.3), 0px 1px 3px 1px rgba(60, 64, 67, 0.15);\n",
              "    fill: #174EA6;\n",
              "  }\n",
              "\n",
              "  [theme=dark] .colab-df-quickchart {\n",
              "    background-color: #3B4455;\n",
              "    fill: #D2E3FC;\n",
              "  }\n",
              "\n",
              "  [theme=dark] .colab-df-quickchart:hover {\n",
              "    background-color: #434B5C;\n",
              "    box-shadow: 0px 1px 3px 1px rgba(0, 0, 0, 0.15);\n",
              "    filter: drop-shadow(0px 1px 2px rgba(0, 0, 0, 0.3));\n",
              "    fill: #FFFFFF;\n",
              "  }\n",
              "</style>\n",
              "\n",
              "    <script>\n",
              "      async function quickchart(key) {\n",
              "        const containerElement = document.querySelector('#' + key);\n",
              "        const charts = await google.colab.kernel.invokeFunction(\n",
              "            'suggestCharts', [key], {});\n",
              "      }\n",
              "    </script>\n",
              "\n",
              "      <script>\n",
              "\n",
              "function displayQuickchartButton(domScope) {\n",
              "  let quickchartButtonEl =\n",
              "    domScope.querySelector('#df-bb1379c8-200b-4294-ab4d-ed9ef23571c6 button.colab-df-quickchart');\n",
              "  quickchartButtonEl.style.display =\n",
              "    google.colab.kernel.accessAllowed ? 'block' : 'none';\n",
              "}\n",
              "\n",
              "        displayQuickchartButton(document);\n",
              "      </script>\n",
              "      <style>\n",
              "    .colab-df-container {\n",
              "      display:flex;\n",
              "      flex-wrap:wrap;\n",
              "      gap: 12px;\n",
              "    }\n",
              "\n",
              "    .colab-df-convert {\n",
              "      background-color: #E8F0FE;\n",
              "      border: none;\n",
              "      border-radius: 50%;\n",
              "      cursor: pointer;\n",
              "      display: none;\n",
              "      fill: #1967D2;\n",
              "      height: 32px;\n",
              "      padding: 0 0 0 0;\n",
              "      width: 32px;\n",
              "    }\n",
              "\n",
              "    .colab-df-convert:hover {\n",
              "      background-color: #E2EBFA;\n",
              "      box-shadow: 0px 1px 2px rgba(60, 64, 67, 0.3), 0px 1px 3px 1px rgba(60, 64, 67, 0.15);\n",
              "      fill: #174EA6;\n",
              "    }\n",
              "\n",
              "    [theme=dark] .colab-df-convert {\n",
              "      background-color: #3B4455;\n",
              "      fill: #D2E3FC;\n",
              "    }\n",
              "\n",
              "    [theme=dark] .colab-df-convert:hover {\n",
              "      background-color: #434B5C;\n",
              "      box-shadow: 0px 1px 3px 1px rgba(0, 0, 0, 0.15);\n",
              "      filter: drop-shadow(0px 1px 2px rgba(0, 0, 0, 0.3));\n",
              "      fill: #FFFFFF;\n",
              "    }\n",
              "  </style>\n",
              "\n",
              "      <script>\n",
              "        const buttonEl =\n",
              "          document.querySelector('#df-aabd7612-c887-4ba7-8a15-ff0a8fb7d150 button.colab-df-convert');\n",
              "        buttonEl.style.display =\n",
              "          google.colab.kernel.accessAllowed ? 'block' : 'none';\n",
              "\n",
              "        async function convertToInteractive(key) {\n",
              "          const element = document.querySelector('#df-aabd7612-c887-4ba7-8a15-ff0a8fb7d150');\n",
              "          const dataTable =\n",
              "            await google.colab.kernel.invokeFunction('convertToInteractive',\n",
              "                                                     [key], {});\n",
              "          if (!dataTable) return;\n",
              "\n",
              "          const docLinkHtml = 'Like what you see? Visit the ' +\n",
              "            '<a target=\"_blank\" href=https://colab.research.google.com/notebooks/data_table.ipynb>data table notebook</a>'\n",
              "            + ' to learn more about interactive tables.';\n",
              "          element.innerHTML = '';\n",
              "          dataTable['output_type'] = 'display_data';\n",
              "          await google.colab.output.renderOutput(dataTable, element);\n",
              "          const docLink = document.createElement('div');\n",
              "          docLink.innerHTML = docLinkHtml;\n",
              "          element.appendChild(docLink);\n",
              "        }\n",
              "      </script>\n",
              "    </div>\n",
              "  </div>\n"
            ],
            "text/plain": [
              "  school_state project_grade_category  \\\n",
              "0           IN          grades_prek-2   \n",
              "1           FL             grades_6-8   \n",
              "\n",
              "   teacher_number_of_previously_posted_projects  project_submitted_month  \\\n",
              "0                                      0.000000                       12   \n",
              "1                                      2.079442                       10   \n",
              "\n",
              "   project_submitted_year teacher_gender  price  project_is_approved  \\\n",
              "0                    2016         Female  4.445                    0   \n",
              "1                    2016           Male  5.700                    1   \n",
              "\n",
              "                             processed_project_essay  \\\n",
              "0  student english learner work english second la...   \n",
              "1  student arrive school eager learn  polite gene...   \n",
              "\n",
              "                    processed_project_title  \\\n",
              "0  educational support english learner home   \n",
              "1             want projector hungry learner   \n",
              "\n",
              "  processed_project_subject_categories processed_project_subject_subcategories  \n",
              "0                    literacy language                            esl literacy  \n",
              "1           history civic health sport            civics government team sport  "
            ]
          },
          "execution_count": 5,
          "metadata": {},
          "output_type": "execute_result"
        }
      ],
      "source": [
        "df.head(2)"
      ]
    },
    {
      "cell_type": "code",
      "execution_count": 6,
      "metadata": {
        "colab": {
          "base_uri": "https://localhost:8080/"
        },
        "id": "Z8evGebKdbo5",
        "outputId": "e4af8b22-fe3f-4427-d264-8433fda5dc56"
      },
      "outputs": [
        {
          "data": {
            "text/plain": [
              "(107035, 12)"
            ]
          },
          "execution_count": 6,
          "metadata": {},
          "output_type": "execute_result"
        }
      ],
      "source": [
        "df.shape"
      ]
    },
    {
      "cell_type": "code",
      "execution_count": 7,
      "metadata": {
        "colab": {
          "base_uri": "https://localhost:8080/"
        },
        "id": "q2R4wf5wdREy",
        "outputId": "c6a2ce07-eb27-4559-efd1-009919a25396"
      },
      "outputs": [
        {
          "data": {
            "text/plain": [
              "school_state                                    0.000000\n",
              "project_grade_category                          0.000000\n",
              "teacher_number_of_previously_posted_projects    0.000000\n",
              "project_submitted_month                         0.000000\n",
              "project_submitted_year                          0.000000\n",
              "teacher_gender                                  0.000000\n",
              "price                                           0.000000\n",
              "project_is_approved                             0.000000\n",
              "processed_project_essay                         0.000000\n",
              "processed_project_title                         0.040174\n",
              "processed_project_subject_categories            0.000000\n",
              "processed_project_subject_subcategories         0.772644\n",
              "dtype: float64"
            ]
          },
          "execution_count": 7,
          "metadata": {},
          "output_type": "execute_result"
        }
      ],
      "source": [
        "# Missing value treatment: checking null values in the data\n",
        "df.isnull().sum()/len(df) * 100"
      ]
    },
    {
      "cell_type": "code",
      "execution_count": 8,
      "metadata": {
        "id": "NR3KR9dAF3NR"
      },
      "outputs": [],
      "source": [
        "df.fillna('', inplace=True)"
      ]
    },
    {
      "cell_type": "code",
      "execution_count": 9,
      "metadata": {
        "colab": {
          "base_uri": "https://localhost:8080/"
        },
        "id": "HQca-yK_dVL5",
        "outputId": "cbf972f1-7a8d-4044-ab31-df4319509540"
      },
      "outputs": [
        {
          "name": "stdout",
          "output_type": "stream",
          "text": [
            "<class 'pandas.core.frame.DataFrame'>\n",
            "RangeIndex: 107035 entries, 0 to 107034\n",
            "Data columns (total 12 columns):\n",
            " #   Column                                        Non-Null Count   Dtype  \n",
            "---  ------                                        --------------   -----  \n",
            " 0   school_state                                  107035 non-null  object \n",
            " 1   project_grade_category                        107035 non-null  object \n",
            " 2   teacher_number_of_previously_posted_projects  107035 non-null  float64\n",
            " 3   project_submitted_month                       107035 non-null  int64  \n",
            " 4   project_submitted_year                        107035 non-null  int64  \n",
            " 5   teacher_gender                                107035 non-null  object \n",
            " 6   price                                         107035 non-null  float64\n",
            " 7   project_is_approved                           107035 non-null  int64  \n",
            " 8   processed_project_essay                       107035 non-null  object \n",
            " 9   processed_project_title                       107035 non-null  object \n",
            " 10  processed_project_subject_categories          107035 non-null  object \n",
            " 11  processed_project_subject_subcategories       107035 non-null  object \n",
            "dtypes: float64(2), int64(3), object(7)\n",
            "memory usage: 9.8+ MB\n"
          ]
        }
      ],
      "source": [
        "df.info()"
      ]
    },
    {
      "cell_type": "code",
      "execution_count": 10,
      "metadata": {
        "id": "vea3TIZW2uBF"
      },
      "outputs": [],
      "source": [
        "# Change the dtype for categorical random variables\n",
        "df = df.astype({\"school_state\":'category', \"project_grade_category\":'category' ,\"project_submitted_month\":'category',\"project_submitted_year\":'category',\"teacher_gender\":'category'})"
      ]
    },
    {
      "cell_type": "markdown",
      "metadata": {
        "id": "3u81AXD-vKNl"
      },
      "source": [
        "- Perform Binary/Label Encoding for categorical variables `project_submitted_year`, `teacher_gender`."
      ]
    },
    {
      "cell_type": "code",
      "execution_count": 11,
      "metadata": {
        "id": "0NUw3UF-Zyxy"
      },
      "outputs": [],
      "source": [
        "# teacher_gender\n",
        "teacher_gender_mapping = {'Male': 0 , 'Female': 1, 'Other':2}\n",
        "df['teacher_gender'] = df['teacher_gender'].map(teacher_gender_mapping)\n",
        "\n",
        "# project_submitted_year\n",
        "df['project_submitted_year'] = df['project_submitted_year'].apply(lambda x: 0 if x==2016 else 1)"
      ]
    },
    {
      "cell_type": "markdown",
      "metadata": {
        "id": "wnc84R7oMQ_0"
      },
      "source": [
        "#### Data Preparation"
      ]
    },
    {
      "cell_type": "code",
      "execution_count": 12,
      "metadata": {
        "id": "rjVUZHpp5_fF"
      },
      "outputs": [],
      "source": [
        "# Defining X and Y\n",
        "X = df[df.columns.drop(\"project_is_approved\")]\n",
        "y = df[\"project_is_approved\"]"
      ]
    },
    {
      "cell_type": "code",
      "execution_count": 13,
      "metadata": {
        "colab": {
          "base_uri": "https://localhost:8080/"
        },
        "id": "JKjf3h_g58yp",
        "outputId": "7b62891b-7395-4589-b050-6b63c37eca71"
      },
      "outputs": [
        {
          "name": "stdout",
          "output_type": "stream",
          "text": [
            "Shape of the Train set: (85628, 11) and Shape of the Test set: (21407, 11).\n"
          ]
        }
      ],
      "source": [
        "# train-val-test split\n",
        "from sklearn.model_selection import train_test_split\n",
        "\n",
        "X_train_cv, X_test, y_train_cv, y_test = train_test_split(X, y, test_size=0.2, random_state=5, stratify=y)\n",
        "print(f\"Shape of the Train set: {X_train_cv.shape} and Shape of the Test set: {X_test.shape}.\" )"
      ]
    },
    {
      "cell_type": "markdown",
      "metadata": {
        "id": "WkWnv_f_ECPE"
      },
      "source": [
        "- Apply Tf-Idf and one-hot encoding for feature extraction of textual columns."
      ]
    },
    {
      "cell_type": "code",
      "execution_count": 14,
      "metadata": {
        "id": "4DI4MMg4PE1T"
      },
      "outputs": [],
      "source": [
        "def tf_idf_encoding_process(df_train, df_test):\n",
        "\n",
        "  from scipy.sparse import hstack as hs\n",
        "  # Using inbuilt TfidfVectorizer() function to calculate TF-IDF\n",
        "  from sklearn.feature_extraction.text import TfidfVectorizer\n",
        "\n",
        "  # Instantiate the vectorizer object\n",
        "  tf_idf_vectorizer = TfidfVectorizer(min_df=5)\n",
        "\n",
        "  # For the column processed_project_title\n",
        "  train_tfidf_matrix_title = tf_idf_vectorizer.fit_transform(df_train['processed_project_title'])\n",
        "  test_tfidf_matrix_title = tf_idf_vectorizer.transform(df_test['processed_project_title'])\n",
        "\n",
        "  # For the column processed_project_essay\n",
        "  train_tfidf_matrix_essay = tf_idf_vectorizer.fit_transform(df_train['processed_project_essay'])\n",
        "  test_tfidf_matrix_essay = tf_idf_vectorizer.transform(df_test['processed_project_title'])\n",
        "\n",
        "  # For the column processed_project_subject_categories\n",
        "  train_tfidf_matrix_cat = tf_idf_vectorizer.fit_transform(df_train['processed_project_subject_categories'])\n",
        "  test_tfidf_matrix_cat = tf_idf_vectorizer.transform(df_test['processed_project_subject_categories'])\n",
        "\n",
        "  # For the column processed_project_subject_subcategories\n",
        "  train_tfidf_matrix_subcat = tf_idf_vectorizer.fit_transform(df_train['processed_project_subject_subcategories'])\n",
        "  test_tfidf_matrix_subcat = tf_idf_vectorizer.transform(df_test['processed_project_subject_subcategories'])\n",
        "\n",
        "  # Display the shapes of the sparse matrices\n",
        "  print(\"Train tfidf:\", train_tfidf_matrix_title.shape, train_tfidf_matrix_essay.shape, train_tfidf_matrix_cat.shape, train_tfidf_matrix_subcat.shape)\n",
        "  print(\"Test tfidf:\", test_tfidf_matrix_title.shape, test_tfidf_matrix_essay.shape, test_tfidf_matrix_cat.shape, test_tfidf_matrix_subcat.shape)\n",
        "\n",
        "  # Stack the transformed values of each set into a single sparse matrix\n",
        "  train_tf_idf_mat = hs((train_tfidf_matrix_title, train_tfidf_matrix_essay, train_tfidf_matrix_cat, train_tfidf_matrix_subcat))\n",
        "  test_tf_idf_mat = hs((test_tfidf_matrix_title, test_tfidf_matrix_essay, test_tfidf_matrix_cat, test_tfidf_matrix_subcat))\n",
        "\n",
        "  # Prepare the matrix for each set after tf-idf has been applied to the required features\n",
        "  df_train_tf_idf = hs((df_train[['teacher_number_of_previously_posted_projects', 'project_submitted_month', 'project_submitted_year',\t'teacher_gender', 'price']].values, train_tf_idf_mat))\n",
        "  df_test_tf_idf = hs((df_test[['teacher_number_of_previously_posted_projects', 'project_submitted_month', 'project_submitted_year',\t'teacher_gender', 'price']].values, test_tf_idf_mat))\n",
        "  print(f\"Train tfidf: {df_train_tf_idf.shape}; Test tfidf: {df_test_tf_idf.shape}\")\n",
        "\n",
        "  return df_train_tf_idf, df_test_tf_idf"
      ]
    },
    {
      "cell_type": "markdown",
      "metadata": {
        "id": "m8pr6fqR8eyF"
      },
      "source": [
        "- Perform one-hot encoding on other nominal categorical variables"
      ]
    },
    {
      "cell_type": "code",
      "execution_count": 15,
      "metadata": {
        "id": "g9P693O7EJ2b"
      },
      "outputs": [],
      "source": [
        "def one_hot_encoding_process(df_train, df_test):\n",
        "\n",
        "  from scipy.sparse import hstack as hs\n",
        "  # Using inbuilt CountVectorizer() function to do one-hot encoding on the required features\n",
        "  from sklearn.feature_extraction.text import CountVectorizer\n",
        "\n",
        "  # Instantiate the countvectorizer object\n",
        "  vect = CountVectorizer()\n",
        "\n",
        "  # For the column school_state\n",
        "  train_school_one_hot = vect.fit_transform(df_train['school_state'].values)\n",
        "  test_school_one_hot = vect.transform(df_test['school_state'].values)\n",
        "\n",
        "  # For the column project_grade_category\n",
        "  vect = CountVectorizer()\n",
        "  train_grade_one_hot = vect.fit_transform(df_train['project_grade_category'].values)\n",
        "  test_grade_one_hot = vect.transform(df_test['project_grade_category'].values)\n",
        "\n",
        "  # Stack the transformed values of each set into a single sparse matrix\n",
        "  df_train_one_hot = hs(( train_school_one_hot, train_grade_one_hot))\n",
        "  df_test_one_hot = hs((test_school_one_hot, test_grade_one_hot))\n",
        "\n",
        "  # Display the shapes of the sparse matrices\n",
        "  print(f\"Train one-hot:{df_train_one_hot.shape};  Test one-hot:{df_test_one_hot.shape}\")\n",
        "\n",
        "  return df_train_one_hot, df_test_one_hot"
      ]
    },
    {
      "cell_type": "code",
      "execution_count": 16,
      "metadata": {
        "colab": {
          "base_uri": "https://localhost:8080/"
        },
        "id": "b6mzUdFEDfj1",
        "outputId": "e5b14221-b8a2-4c22-9f6c-a0a50ab07984"
      },
      "outputs": [
        {
          "name": "stdout",
          "output_type": "stream",
          "text": [
            "Train tfidf: (85628, 3506) (85628, 17646) (85628, 18) (85628, 47)\n",
            "Test tfidf: (21407, 3506) (21407, 17646) (21407, 18) (21407, 47)\n",
            "Train tfidf: (85628, 21222); Test tfidf: (21407, 21222)\n"
          ]
        }
      ],
      "source": [
        "# Apply TfIdf and Count Vectorizer to the required categorical features and obtain the transformed X_train_fin, X_test_fin to use for modelling\n",
        "\n",
        "X_train_tf_idf, X_test_tf_idf = tf_idf_encoding_process(X_train_cv, X_test)"
      ]
    },
    {
      "cell_type": "code",
      "execution_count": 17,
      "metadata": {
        "colab": {
          "base_uri": "https://localhost:8080/"
        },
        "id": "-mpTakLQCgf6",
        "outputId": "ac9c003d-0b91-4dc2-e3cf-51fa2230b8a5"
      },
      "outputs": [
        {
          "name": "stdout",
          "output_type": "stream",
          "text": [
            "Train one-hot:(85628, 56);  Test one-hot:(21407, 56)\n"
          ]
        }
      ],
      "source": [
        "X_train_one_hot, X_test_one_hot = one_hot_encoding_process(X_train_cv, X_test)"
      ]
    },
    {
      "cell_type": "code",
      "execution_count": 18,
      "metadata": {
        "colab": {
          "base_uri": "https://localhost:8080/"
        },
        "id": "s6QOFOP8cSht",
        "outputId": "39f37172-a6bb-4dfb-e2bf-0cebbf0a6578"
      },
      "outputs": [
        {
          "name": "stdout",
          "output_type": "stream",
          "text": [
            "Train Final: (85628, 21278); Test Final: (21407, 21278)\n"
          ]
        }
      ],
      "source": [
        "from scipy.sparse import hstack as hs\n",
        "X_train_fin = hs((X_train_one_hot, X_train_tf_idf))\n",
        "X_test_fin = hs((X_test_one_hot, X_test_tf_idf))\n",
        "\n",
        "print(f\"Train Final: {X_train_fin.shape}; Test Final: {X_test_fin.shape}\")"
      ]
    },
    {
      "cell_type": "markdown",
      "metadata": {
        "id": "6QpTeLsF42Bb"
      },
      "source": [
        "#### Training - Naive Bayes"
      ]
    },
    {
      "cell_type": "code",
      "execution_count": 21,
      "metadata": {
        "id": "jULAzxFn0QuM"
      },
      "outputs": [],
      "source": [
        "from sklearn.naive_bayes import MultinomialNB\n",
        "from sklearn.model_selection import GridSearchCV\n",
        "from sklearn.preprocessing import StandardScaler\n",
        "from sklearn.pipeline import Pipeline\n",
        "\n",
        "# Create a pipeline with StandardScaler and Multinomial Naive Bayes\n",
        "pipeline = Pipeline([\n",
        "    ('scaler', StandardScaler(with_mean=False)),\n",
        "    ('nb', MultinomialNB())\n",
        "])\n",
        "\n",
        "# Calculate class weights to account for class imbalance\n",
        "class_weights = {0: 1/0.15, 1: 1/0.85}  # Manually calculate the inverse of class frequencies\n",
        "\n",
        "# Define the parameter grid for grid search\n",
        "param_grid = {'nb__alpha': [0.0001, 0.001, 0.1, 0.5, 1.0, 5.0, 10.0, 50.0]}  # Add more values if needed\n",
        "\n",
        "# Create an instance of GridSearchCV\n",
        "grid_search = GridSearchCV(estimator=pipeline, param_grid=param_grid, cv=5, scoring='roc_auc', return_train_score=True, n_jobs=-1, error_score='raise')\n",
        "\n",
        "# Train the model with weighted samples and perform grid search\n",
        "grid_search.fit(X_train_fin, y_train_cv, nb__sample_weight=np.vectorize(class_weights.get)(y_train_cv))\n",
        "\n",
        "# Get the best alpha value from the grid search\n",
        "best_alpha = grid_search.best_params_['nb__alpha']\n",
        "\n",
        "# Train the final model with the best alpha and weighted samples\n",
        "final_model = pipeline.set_params(nb__alpha=best_alpha)\n",
        "final_model.fit(X_train_fin, y_train_cv, nb__sample_weight=np.vectorize(class_weights.get)(y_train_cv))\n",
        "\n",
        "# Make predictions on the test set\n",
        "y_pred = final_model.predict(X_test_fin)"
      ]
    },
    {
      "cell_type": "markdown",
      "metadata": {
        "id": "BYeLsApiuZOL"
      },
      "source": [
        "#### Evaluation of Classification Metrics"
      ]
    },
    {
      "cell_type": "code",
      "execution_count": 22,
      "metadata": {
        "colab": {
          "base_uri": "https://localhost:8080/",
          "height": 472
        },
        "id": "O5B9Gr8i2lih",
        "outputId": "e92e10ad-5701-4128-86ce-9387e6fee4a7"
      },
      "outputs": [
        {
          "data": {
            "image/png": "[encoded data removed]",
            "text/plain": [
              "<Figure size 640x480 with 1 Axes>"
            ]
          },
          "metadata": {},
          "output_type": "display_data"
        }
      ],
      "source": [
        "import matplotlib.pyplot as plt\n",
        "from sklearn.metrics import roc_curve, roc_auc_score\n",
        "\n",
        "# Make predictions on train and test set probabilities\n",
        "y_train_probs = final_model.predict_proba(X_train_fin)[:, 1]\n",
        "y_test_probs = final_model.predict_proba(X_test_fin)[:, 1]\n",
        "\n",
        "# Calculate ROC-AUC scores\n",
        "train_roc_auc = roc_auc_score(y_train_cv, y_train_probs)\n",
        "test_roc_auc = roc_auc_score(y_test, y_test_probs)\n",
        "\n",
        "# Calculate ROC curves\n",
        "train_fpr, train_tpr, _ = roc_curve(y_train_cv, y_train_probs)\n",
        "test_fpr, test_tpr, _ = roc_curve(y_test, y_test_probs)\n",
        "\n",
        "# Plot ROC curves\n",
        "plt.plot(train_fpr, train_tpr, label='Train ROC Curve (AUC = {:.2f})'.format(train_roc_auc))\n",
        "plt.plot(test_fpr, test_tpr, label='Test ROC Curve (AUC = {:.2f})'.format(test_roc_auc))\n",
        "plt.plot([0, 1], [0, 1], 'k--', label='Random')\n",
        "plt.xlabel('False Positive Rate')\n",
        "plt.ylabel('True Positive Rate')\n",
        "plt.title('Receiver Operating Characteristic')\n",
        "plt.legend(loc='lower right')\n",
        "plt.show()"
      ]
    },
    {
      "cell_type": "code",
      "execution_count": 23,
      "metadata": {
        "colab": {
          "base_uri": "https://localhost:8080/",
          "height": 584
        },
        "id": "L6g-VFA94-3l",
        "outputId": "96ed1d69-a8b0-486c-c843-392ea479a9f5"
      },
      "outputs": [
        {
          "data": {
            "image/png": "[encoded data removed]",
            "text/plain": [
              "<Figure size 600x400 with 2 Axes>"
            ]
          },
          "metadata": {},
          "output_type": "display_data"
        },
        {
          "name": "stdout",
          "output_type": "stream",
          "text": [
            "Classification Report:\n",
            "               precision    recall  f1-score   support\n",
            "\n",
            "           0       0.20      0.56      0.29      3280\n",
            "           1       0.88      0.59      0.71     18127\n",
            "\n",
            "    accuracy                           0.59     21407\n",
            "   macro avg       0.54      0.58      0.50     21407\n",
            "weighted avg       0.78      0.59      0.65     21407\n",
            "\n"
          ]
        }
      ],
      "source": [
        "import seaborn as sns\n",
        "from sklearn.metrics import confusion_matrix, classification_report\n",
        "\n",
        "# Make predictions on the test set\n",
        "y_pred = final_model.predict(X_test_fin)\n",
        "\n",
        "# Calculate the confusion matrix\n",
        "cm = confusion_matrix(y_test, y_pred)\n",
        "\n",
        "# Plot the confusion matrix\n",
        "plt.figure(figsize=(6, 4))\n",
        "sns.heatmap(cm, annot=True, fmt='d', cmap='Blues')\n",
        "plt.title('Confusion Matrix')\n",
        "plt.xlabel('Predicted Labels')\n",
        "plt.ylabel('True Labels')\n",
        "plt.show()\n",
        "\n",
        "# Display the classification report\n",
        "print(\"Classification Report:\\n\", classification_report(y_test, y_pred))"
      ]
    }
  ],
  "metadata": {
    "accelerator": "GPU",
    "colab": {
      "gpuType": "T4",
      "provenance": []
    },
    "kernelspec": {
      "display_name": "Python 3",
      "name": "python3"
    },
    "language_info": {
      "name": "python"
    }
  },
  "nbformat": 4,
  "nbformat_minor": 0
}
