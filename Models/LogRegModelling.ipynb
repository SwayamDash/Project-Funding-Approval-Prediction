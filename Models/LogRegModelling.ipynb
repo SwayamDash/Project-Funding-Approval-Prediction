{
  "cells": [
    {
      "cell_type": "code",
      "execution_count": 1,
      "metadata": {
        "colab": {
          "base_uri": "https://localhost:8080/"
        },
        "id": "aljpOabrea8U",
        "outputId": "3f63253c-ebfb-420d-80c5-4dec1eac570f"
      },
      "outputs": [
        {
          "name": "stdout",
          "output_type": "stream",
          "text": [
            "Requirement already satisfied: contractions in /usr/local/lib/python3.10/dist-packages (0.1.73)\n",
            "Requirement already satisfied: textsearch>=0.0.21 in /usr/local/lib/python3.10/dist-packages (from contractions) (0.0.24)\n",
            "Requirement already satisfied: anyascii in /usr/local/lib/python3.10/dist-packages (from textsearch>=0.0.21->contractions) (0.3.2)\n",
            "Requirement already satisfied: pyahocorasick in /usr/local/lib/python3.10/dist-packages (from textsearch>=0.0.21->contractions) (2.0.0)\n"
          ]
        },
        {
          "name": "stderr",
          "output_type": "stream",
          "text": [
            "[nltk_data] Downloading package punkt to /root/nltk_data...\n",
            "[nltk_data]   Package punkt is already up-to-date!\n",
            "[nltk_data] Downloading package stopwords to /root/nltk_data...\n",
            "[nltk_data]   Package stopwords is already up-to-date!\n",
            "[nltk_data] Downloading package wordnet to /root/nltk_data...\n",
            "[nltk_data]   Package wordnet is already up-to-date!\n",
            "[nltk_data] Downloading package averaged_perceptron_tagger to\n",
            "[nltk_data]     /root/nltk_data...\n",
            "[nltk_data]   Package averaged_perceptron_tagger is already up-to-\n",
            "[nltk_data]       date!\n",
            "[nltk_data] Downloading package tagsets to /root/nltk_data...\n",
            "[nltk_data]   Package tagsets is already up-to-date!\n",
            "[nltk_data] Downloading package universal_tagset to /root/nltk_data...\n",
            "[nltk_data]   Package universal_tagset is already up-to-date!\n",
            "[nltk_data] Downloading package treebank to /root/nltk_data...\n",
            "[nltk_data]   Package treebank is already up-to-date!\n"
          ]
        },
        {
          "name": "stdout",
          "output_type": "stream",
          "text": [
            "Requirement already satisfied: category_encoders in /usr/local/lib/python3.10/dist-packages (2.6.1)\n",
            "Requirement already satisfied: numpy>=1.14.0 in /usr/local/lib/python3.10/dist-packages (from category_encoders) (1.22.4)\n",
            "Requirement already satisfied: scikit-learn>=0.20.0 in /usr/local/lib/python3.10/dist-packages (from category_encoders) (1.2.2)\n",
            "Requirement already satisfied: scipy>=1.0.0 in /usr/local/lib/python3.10/dist-packages (from category_encoders) (1.10.1)\n",
            "Requirement already satisfied: statsmodels>=0.9.0 in /usr/local/lib/python3.10/dist-packages (from category_encoders) (0.13.5)\n",
            "Requirement already satisfied: pandas>=1.0.5 in /usr/local/lib/python3.10/dist-packages (from category_encoders) (1.5.3)\n",
            "Requirement already satisfied: patsy>=0.5.1 in /usr/local/lib/python3.10/dist-packages (from category_encoders) (0.5.3)\n",
            "Requirement already satisfied: python-dateutil>=2.8.1 in /usr/local/lib/python3.10/dist-packages (from pandas>=1.0.5->category_encoders) (2.8.2)\n",
            "Requirement already satisfied: pytz>=2020.1 in /usr/local/lib/python3.10/dist-packages (from pandas>=1.0.5->category_encoders) (2022.7.1)\n",
            "Requirement already satisfied: six in /usr/local/lib/python3.10/dist-packages (from patsy>=0.5.1->category_encoders) (1.16.0)\n",
            "Requirement already satisfied: joblib>=1.1.1 in /usr/local/lib/python3.10/dist-packages (from scikit-learn>=0.20.0->category_encoders) (1.3.1)\n",
            "Requirement already satisfied: threadpoolctl>=2.0.0 in /usr/local/lib/python3.10/dist-packages (from scikit-learn>=0.20.0->category_encoders) (3.1.0)\n",
            "Requirement already satisfied: packaging>=21.3 in /usr/local/lib/python3.10/dist-packages (from statsmodels>=0.9.0->category_encoders) (23.1)\n"
          ]
        }
      ],
      "source": [
        "# libraries to display df and images\n",
        "from IPython.display import display\n",
        "from PIL import Image\n",
        "from pprint import pprint\n",
        "from tqdm.notebook import tqdm\n",
        "tqdm.pandas()\n",
        "\n",
        "# For vizualization\n",
        "import matplotlib.pyplot as plt\n",
        "import seaborn as sns\n",
        "import pandas as pd\n",
        "import numpy as np\n",
        "from scipy import stats\n",
        "from scipy.sparse import hstack as hs\n",
        "import statsmodels as sm\n",
        "from pylab import *\n",
        "\n",
        "# Inbuilt library to work with textual data\n",
        "import string\n",
        "import re\n",
        "\n",
        "# Setting up the NLTK to pre-processing textual data\n",
        "import spacy\n",
        "import nltk\n",
        "from nltk.corpus import stopwords, wordnet\n",
        "from nltk.stem import PorterStemmer, LancasterStemmer, SnowballStemmer, WordNetLemmatizer\n",
        "from nltk.tokenize import word_tokenize, sent_tokenize\n",
        "\n",
        "!pip install contractions\n",
        "import contractions\n",
        "nltk.download('punkt')\n",
        "nltk.download('stopwords')\n",
        "nltk.download('wordnet')\n",
        "nltk.download('averaged_perceptron_tagger')\n",
        "nltk.download('tagsets')\n",
        "nltk.download('universal_tagset')\n",
        "nltk.download('treebank')\n",
        "\n",
        "# Ignore all the warnings\n",
        "import warnings\n",
        "warnings.filterwarnings('ignore')"
      ]
    },
    {
      "cell_type": "code",
      "execution_count": 2,
      "metadata": {
        "colab": {
          "base_uri": "https://localhost:8080/",
          "height": 297
        },
        "id": "sA-SAUFUBISv",
        "outputId": "bf5d4b87-8814-44dd-add8-3f80a84c3339"
      },
      "outputs": [
        {
          "data": {
            "text/html": [
              "\n",
              "\n",
              "  <div id=\"df-0d20109b-d928-4e08-ba24-30433eef3f28\">\n",
              "    <div class=\"colab-df-container\">\n",
              "      <div>\n",
              "<style scoped>\n",
              "    .dataframe tbody tr th:only-of-type {\n",
              "        vertical-align: middle;\n",
              "    }\n",
              "\n",
              "    .dataframe tbody tr th {\n",
              "        vertical-align: top;\n",
              "    }\n",
              "\n",
              "    .dataframe thead th {\n",
              "        text-align: right;\n",
              "    }\n",
              "</style>\n",
              "<table border=\"1\" class=\"dataframe\">\n",
              "  <thead>\n",
              "    <tr style=\"text-align: right;\">\n",
              "      <th></th>\n",
              "      <th>school_state</th>\n",
              "      <th>project_grade_category</th>\n",
              "      <th>project_subject_categories</th>\n",
              "      <th>project_subject_subcategories</th>\n",
              "      <th>project_title</th>\n",
              "      <th>teacher_number_of_previously_posted_projects</th>\n",
              "      <th>project_submitted_month</th>\n",
              "      <th>project_submitted_year</th>\n",
              "      <th>teacher_gender</th>\n",
              "      <th>price</th>\n",
              "      <th>project_essay</th>\n",
              "      <th>project_is_approved</th>\n",
              "      <th>processed_project_essay</th>\n",
              "      <th>processed_project_title</th>\n",
              "      <th>processed_project_subject_categories</th>\n",
              "      <th>processed_project_subject_subcategories</th>\n",
              "    </tr>\n",
              "  </thead>\n",
              "  <tbody>\n",
              "    <tr>\n",
              "      <th>0</th>\n",
              "      <td>IN</td>\n",
              "      <td>grades_prek-2</td>\n",
              "      <td>Literacy_Language</td>\n",
              "      <td>ESL Literacy</td>\n",
              "      <td>Educational Support for English Learners at Home</td>\n",
              "      <td>0</td>\n",
              "      <td>12</td>\n",
              "      <td>2016</td>\n",
              "      <td>Female</td>\n",
              "      <td>4.445</td>\n",
              "      <td>My students are English learners that are work...</td>\n",
              "      <td>0</td>\n",
              "      <td>student english learner work english second la...</td>\n",
              "      <td>educational support english learner home</td>\n",
              "      <td>literacy language</td>\n",
              "      <td>esl literacy</td>\n",
              "    </tr>\n",
              "    <tr>\n",
              "      <th>1</th>\n",
              "      <td>FL</td>\n",
              "      <td>grades_6-8</td>\n",
              "      <td>History_Civics Health_Sports</td>\n",
              "      <td>Civics_Government Team_Sports</td>\n",
              "      <td>Wanted: Projector for Hungry Learners</td>\n",
              "      <td>7</td>\n",
              "      <td>10</td>\n",
              "      <td>2016</td>\n",
              "      <td>Male</td>\n",
              "      <td>5.700</td>\n",
              "      <td>Our students arrive to our school eager to lea...</td>\n",
              "      <td>1</td>\n",
              "      <td>student arrive school eager learn  polite gene...</td>\n",
              "      <td>want projector hungry learner</td>\n",
              "      <td>history civic health sport</td>\n",
              "      <td>civics government team sport</td>\n",
              "    </tr>\n",
              "  </tbody>\n",
              "</table>\n",
              "</div>\n",
              "      <button class=\"colab-df-convert\" onclick=\"convertToInteractive('df-0d20109b-d928-4e08-ba24-30433eef3f28')\"\n",
              "              title=\"Convert this dataframe to an interactive table.\"\n",
              "              style=\"display:none;\">\n",
              "\n",
              "  <svg xmlns=\"http://www.w3.org/2000/svg\" height=\"24px\"viewBox=\"0 0 24 24\"\n",
              "       width=\"24px\">\n",
              "    <path d=\"M0 0h24v24H0V0z\" fill=\"none\"/>\n",
              "    <path d=\"M18.56 5.44l.94 2.06.94-2.06 2.06-.94-2.06-.94-.94-2.06-.94 2.06-2.06.94zm-11 1L8.5 8.5l.94-2.06 2.06-.94-2.06-.94L8.5 2.5l-.94 2.06-2.06.94zm10 10l.94 2.06.94-2.06 2.06-.94-2.06-.94-.94-2.06-.94 2.06-2.06.94z\"/><path d=\"M17.41 7.96l-1.37-1.37c-.4-.4-.92-.59-1.43-.59-.52 0-1.04.2-1.43.59L10.3 9.45l-7.72 7.72c-.78.78-.78 2.05 0 2.83L4 21.41c.39.39.9.59 1.41.59.51 0 1.02-.2 1.41-.59l7.78-7.78 2.81-2.81c.8-.78.8-2.07 0-2.86zM5.41 20L4 18.59l7.72-7.72 1.47 1.35L5.41 20z\"/>\n",
              "  </svg>\n",
              "      </button>\n",
              "\n",
              "\n",
              "\n",
              "    <div id=\"df-37016eee-590f-4bd9-abf8-8193296a9d23\">\n",
              "      <button class=\"colab-df-quickchart\" onclick=\"quickchart('df-37016eee-590f-4bd9-abf8-8193296a9d23')\"\n",
              "              title=\"Suggest charts.\"\n",
              "              style=\"display:none;\">\n",
              "\n",
              "<svg xmlns=\"http://www.w3.org/2000/svg\" height=\"24px\"viewBox=\"0 0 24 24\"\n",
              "     width=\"24px\">\n",
              "    <g>\n",
              "        <path d=\"M19 3H5c-1.1 0-2 .9-2 2v14c0 1.1.9 2 2 2h14c1.1 0 2-.9 2-2V5c0-1.1-.9-2-2-2zM9 17H7v-7h2v7zm4 0h-2V7h2v10zm4 0h-2v-4h2v4z\"/>\n",
              "    </g>\n",
              "</svg>\n",
              "      </button>\n",
              "    </div>\n",
              "\n",
              "<style>\n",
              "  .colab-df-quickchart {\n",
              "    background-color: #E8F0FE;\n",
              "    border: none;\n",
              "    border-radius: 50%;\n",
              "    cursor: pointer;\n",
              "    display: none;\n",
              "    fill: #1967D2;\n",
              "    height: 32px;\n",
              "    padding: 0 0 0 0;\n",
              "    width: 32px;\n",
              "  }\n",
              "\n",
              "  .colab-df-quickchart:hover {\n",
              "    background-color: #E2EBFA;\n",
              "    box-shadow: 0px 1px 2px rgba(60, 64, 67, 0.3), 0px 1px 3px 1px rgba(60, 64, 67, 0.15);\n",
              "    fill: #174EA6;\n",
              "  }\n",
              "\n",
              "  [theme=dark] .colab-df-quickchart {\n",
              "    background-color: #3B4455;\n",
              "    fill: #D2E3FC;\n",
              "  }\n",
              "\n",
              "  [theme=dark] .colab-df-quickchart:hover {\n",
              "    background-color: #434B5C;\n",
              "    box-shadow: 0px 1px 3px 1px rgba(0, 0, 0, 0.15);\n",
              "    filter: drop-shadow(0px 1px 2px rgba(0, 0, 0, 0.3));\n",
              "    fill: #FFFFFF;\n",
              "  }\n",
              "</style>\n",
              "\n",
              "    <script>\n",
              "      async function quickchart(key) {\n",
              "        const containerElement = document.querySelector('#' + key);\n",
              "        const charts = await google.colab.kernel.invokeFunction(\n",
              "            'suggestCharts', [key], {});\n",
              "      }\n",
              "    </script>\n",
              "\n",
              "      <script>\n",
              "\n",
              "function displayQuickchartButton(domScope) {\n",
              "  let quickchartButtonEl =\n",
              "    domScope.querySelector('#df-37016eee-590f-4bd9-abf8-8193296a9d23 button.colab-df-quickchart');\n",
              "  quickchartButtonEl.style.display =\n",
              "    google.colab.kernel.accessAllowed ? 'block' : 'none';\n",
              "}\n",
              "\n",
              "        displayQuickchartButton(document);\n",
              "      </script>\n",
              "      <style>\n",
              "    .colab-df-container {\n",
              "      display:flex;\n",
              "      flex-wrap:wrap;\n",
              "      gap: 12px;\n",
              "    }\n",
              "\n",
              "    .colab-df-convert {\n",
              "      background-color: #E8F0FE;\n",
              "      border: none;\n",
              "      border-radius: 50%;\n",
              "      cursor: pointer;\n",
              "      display: none;\n",
              "      fill: #1967D2;\n",
              "      height: 32px;\n",
              "      padding: 0 0 0 0;\n",
              "      width: 32px;\n",
              "    }\n",
              "\n",
              "    .colab-df-convert:hover {\n",
              "      background-color: #E2EBFA;\n",
              "      box-shadow: 0px 1px 2px rgba(60, 64, 67, 0.3), 0px 1px 3px 1px rgba(60, 64, 67, 0.15);\n",
              "      fill: #174EA6;\n",
              "    }\n",
              "\n",
              "    [theme=dark] .colab-df-convert {\n",
              "      background-color: #3B4455;\n",
              "      fill: #D2E3FC;\n",
              "    }\n",
              "\n",
              "    [theme=dark] .colab-df-convert:hover {\n",
              "      background-color: #434B5C;\n",
              "      box-shadow: 0px 1px 3px 1px rgba(0, 0, 0, 0.15);\n",
              "      filter: drop-shadow(0px 1px 2px rgba(0, 0, 0, 0.3));\n",
              "      fill: #FFFFFF;\n",
              "    }\n",
              "  </style>\n",
              "\n",
              "      <script>\n",
              "        const buttonEl =\n",
              "          document.querySelector('#df-0d20109b-d928-4e08-ba24-30433eef3f28 button.colab-df-convert');\n",
              "        buttonEl.style.display =\n",
              "          google.colab.kernel.accessAllowed ? 'block' : 'none';\n",
              "\n",
              "        async function convertToInteractive(key) {\n",
              "          const element = document.querySelector('#df-0d20109b-d928-4e08-ba24-30433eef3f28');\n",
              "          const dataTable =\n",
              "            await google.colab.kernel.invokeFunction('convertToInteractive',\n",
              "                                                     [key], {});\n",
              "          if (!dataTable) return;\n",
              "\n",
              "          const docLinkHtml = 'Like what you see? Visit the ' +\n",
              "            '<a target=\"_blank\" href=https://colab.research.google.com/notebooks/data_table.ipynb>data table notebook</a>'\n",
              "            + ' to learn more about interactive tables.';\n",
              "          element.innerHTML = '';\n",
              "          dataTable['output_type'] = 'display_data';\n",
              "          await google.colab.output.renderOutput(dataTable, element);\n",
              "          const docLink = document.createElement('div');\n",
              "          docLink.innerHTML = docLinkHtml;\n",
              "          element.appendChild(docLink);\n",
              "        }\n",
              "      </script>\n",
              "    </div>\n",
              "  </div>\n"
            ],
            "text/plain": [
              "  school_state project_grade_category    project_subject_categories  \\\n",
              "0           IN          grades_prek-2             Literacy_Language   \n",
              "1           FL             grades_6-8  History_Civics Health_Sports   \n",
              "\n",
              "   project_subject_subcategories  \\\n",
              "0                   ESL Literacy   \n",
              "1  Civics_Government Team_Sports   \n",
              "\n",
              "                                      project_title  \\\n",
              "0  Educational Support for English Learners at Home   \n",
              "1             Wanted: Projector for Hungry Learners   \n",
              "\n",
              "   teacher_number_of_previously_posted_projects  project_submitted_month  \\\n",
              "0                                             0                       12   \n",
              "1                                             7                       10   \n",
              "\n",
              "   project_submitted_year teacher_gender  price  \\\n",
              "0                    2016         Female  4.445   \n",
              "1                    2016           Male  5.700   \n",
              "\n",
              "                                       project_essay  project_is_approved  \\\n",
              "0  My students are English learners that are work...                    0   \n",
              "1  Our students arrive to our school eager to lea...                    1   \n",
              "\n",
              "                             processed_project_essay  \\\n",
              "0  student english learner work english second la...   \n",
              "1  student arrive school eager learn  polite gene...   \n",
              "\n",
              "                    processed_project_title  \\\n",
              "0  educational support english learner home   \n",
              "1             want projector hungry learner   \n",
              "\n",
              "  processed_project_subject_categories processed_project_subject_subcategories  \n",
              "0                    literacy language                            esl literacy  \n",
              "1           history civic health sport            civics government team sport  "
            ]
          },
          "execution_count": 2,
          "metadata": {},
          "output_type": "execute_result"
        }
      ],
      "source": [
        "df = pd.read_csv(\"/content/drive/MyDrive/Colab Notebooks/DonorsChoose/Datasets/Processed Data/Processed_data_final.csv\")\n",
        "df.head(2)"
      ]
    },
    {
      "cell_type": "markdown",
      "metadata": {
        "id": "49SIYmDIkJ1k"
      },
      "source": [
        "After a thorough EDA, taking into account the following details we can drop the columns below.\n",
        "\n",
        "1.   evaluated correlation/collinearity among the features\n",
        "2.   importance of the features towards the target variable\n",
        "3.   skewness of data related to a single feature(removed to avoid bias)\n"
      ]
    },
    {
      "cell_type": "code",
      "execution_count": 3,
      "metadata": {
        "id": "X-AXFF2igQit"
      },
      "outputs": [],
      "source": [
        "cols = [ 'project_subject_categories', 'project_subject_subcategories', 'project_title','project_essay']\n",
        "df.drop(cols, axis=1, inplace=True)"
      ]
    },
    {
      "cell_type": "code",
      "execution_count": 4,
      "metadata": {
        "colab": {
          "base_uri": "https://localhost:8080/",
          "height": 211
        },
        "id": "A6_dRQeppyQI",
        "outputId": "24447913-4d47-45ef-81b5-67513dbe97eb"
      },
      "outputs": [
        {
          "data": {
            "text/html": [
              "\n",
              "\n",
              "  <div id=\"df-412a908a-7229-4a39-9a18-77759be30e32\">\n",
              "    <div class=\"colab-df-container\">\n",
              "      <div>\n",
              "<style scoped>\n",
              "    .dataframe tbody tr th:only-of-type {\n",
              "        vertical-align: middle;\n",
              "    }\n",
              "\n",
              "    .dataframe tbody tr th {\n",
              "        vertical-align: top;\n",
              "    }\n",
              "\n",
              "    .dataframe thead th {\n",
              "        text-align: right;\n",
              "    }\n",
              "</style>\n",
              "<table border=\"1\" class=\"dataframe\">\n",
              "  <thead>\n",
              "    <tr style=\"text-align: right;\">\n",
              "      <th></th>\n",
              "      <th>school_state</th>\n",
              "      <th>project_grade_category</th>\n",
              "      <th>teacher_number_of_previously_posted_projects</th>\n",
              "      <th>project_submitted_month</th>\n",
              "      <th>project_submitted_year</th>\n",
              "      <th>teacher_gender</th>\n",
              "      <th>price</th>\n",
              "      <th>project_is_approved</th>\n",
              "      <th>processed_project_essay</th>\n",
              "      <th>processed_project_title</th>\n",
              "      <th>processed_project_subject_categories</th>\n",
              "      <th>processed_project_subject_subcategories</th>\n",
              "    </tr>\n",
              "  </thead>\n",
              "  <tbody>\n",
              "    <tr>\n",
              "      <th>0</th>\n",
              "      <td>IN</td>\n",
              "      <td>grades_prek-2</td>\n",
              "      <td>0</td>\n",
              "      <td>12</td>\n",
              "      <td>2016</td>\n",
              "      <td>Female</td>\n",
              "      <td>4.445</td>\n",
              "      <td>0</td>\n",
              "      <td>student english learner work english second la...</td>\n",
              "      <td>educational support english learner home</td>\n",
              "      <td>literacy language</td>\n",
              "      <td>esl literacy</td>\n",
              "    </tr>\n",
              "    <tr>\n",
              "      <th>1</th>\n",
              "      <td>FL</td>\n",
              "      <td>grades_6-8</td>\n",
              "      <td>7</td>\n",
              "      <td>10</td>\n",
              "      <td>2016</td>\n",
              "      <td>Male</td>\n",
              "      <td>5.700</td>\n",
              "      <td>1</td>\n",
              "      <td>student arrive school eager learn  polite gene...</td>\n",
              "      <td>want projector hungry learner</td>\n",
              "      <td>history civic health sport</td>\n",
              "      <td>civics government team sport</td>\n",
              "    </tr>\n",
              "  </tbody>\n",
              "</table>\n",
              "</div>\n",
              "      <button class=\"colab-df-convert\" onclick=\"convertToInteractive('df-412a908a-7229-4a39-9a18-77759be30e32')\"\n",
              "              title=\"Convert this dataframe to an interactive table.\"\n",
              "              style=\"display:none;\">\n",
              "\n",
              "  <svg xmlns=\"http://www.w3.org/2000/svg\" height=\"24px\"viewBox=\"0 0 24 24\"\n",
              "       width=\"24px\">\n",
              "    <path d=\"M0 0h24v24H0V0z\" fill=\"none\"/>\n",
              "    <path d=\"M18.56 5.44l.94 2.06.94-2.06 2.06-.94-2.06-.94-.94-2.06-.94 2.06-2.06.94zm-11 1L8.5 8.5l.94-2.06 2.06-.94-2.06-.94L8.5 2.5l-.94 2.06-2.06.94zm10 10l.94 2.06.94-2.06 2.06-.94-2.06-.94-.94-2.06-.94 2.06-2.06.94z\"/><path d=\"M17.41 7.96l-1.37-1.37c-.4-.4-.92-.59-1.43-.59-.52 0-1.04.2-1.43.59L10.3 9.45l-7.72 7.72c-.78.78-.78 2.05 0 2.83L4 21.41c.39.39.9.59 1.41.59.51 0 1.02-.2 1.41-.59l7.78-7.78 2.81-2.81c.8-.78.8-2.07 0-2.86zM5.41 20L4 18.59l7.72-7.72 1.47 1.35L5.41 20z\"/>\n",
              "  </svg>\n",
              "      </button>\n",
              "\n",
              "\n",
              "\n",
              "    <div id=\"df-92cf1370-9520-4090-8c6e-b81715ec8505\">\n",
              "      <button class=\"colab-df-quickchart\" onclick=\"quickchart('df-92cf1370-9520-4090-8c6e-b81715ec8505')\"\n",
              "              title=\"Suggest charts.\"\n",
              "              style=\"display:none;\">\n",
              "\n",
              "<svg xmlns=\"http://www.w3.org/2000/svg\" height=\"24px\"viewBox=\"0 0 24 24\"\n",
              "     width=\"24px\">\n",
              "    <g>\n",
              "        <path d=\"M19 3H5c-1.1 0-2 .9-2 2v14c0 1.1.9 2 2 2h14c1.1 0 2-.9 2-2V5c0-1.1-.9-2-2-2zM9 17H7v-7h2v7zm4 0h-2V7h2v10zm4 0h-2v-4h2v4z\"/>\n",
              "    </g>\n",
              "</svg>\n",
              "      </button>\n",
              "    </div>\n",
              "\n",
              "<style>\n",
              "  .colab-df-quickchart {\n",
              "    background-color: #E8F0FE;\n",
              "    border: none;\n",
              "    border-radius: 50%;\n",
              "    cursor: pointer;\n",
              "    display: none;\n",
              "    fill: #1967D2;\n",
              "    height: 32px;\n",
              "    padding: 0 0 0 0;\n",
              "    width: 32px;\n",
              "  }\n",
              "\n",
              "  .colab-df-quickchart:hover {\n",
              "    background-color: #E2EBFA;\n",
              "    box-shadow: 0px 1px 2px rgba(60, 64, 67, 0.3), 0px 1px 3px 1px rgba(60, 64, 67, 0.15);\n",
              "    fill: #174EA6;\n",
              "  }\n",
              "\n",
              "  [theme=dark] .colab-df-quickchart {\n",
              "    background-color: #3B4455;\n",
              "    fill: #D2E3FC;\n",
              "  }\n",
              "\n",
              "  [theme=dark] .colab-df-quickchart:hover {\n",
              "    background-color: #434B5C;\n",
              "    box-shadow: 0px 1px 3px 1px rgba(0, 0, 0, 0.15);\n",
              "    filter: drop-shadow(0px 1px 2px rgba(0, 0, 0, 0.3));\n",
              "    fill: #FFFFFF;\n",
              "  }\n",
              "</style>\n",
              "\n",
              "    <script>\n",
              "      async function quickchart(key) {\n",
              "        const containerElement = document.querySelector('#' + key);\n",
              "        const charts = await google.colab.kernel.invokeFunction(\n",
              "            'suggestCharts', [key], {});\n",
              "      }\n",
              "    </script>\n",
              "\n",
              "      <script>\n",
              "\n",
              "function displayQuickchartButton(domScope) {\n",
              "  let quickchartButtonEl =\n",
              "    domScope.querySelector('#df-92cf1370-9520-4090-8c6e-b81715ec8505 button.colab-df-quickchart');\n",
              "  quickchartButtonEl.style.display =\n",
              "    google.colab.kernel.accessAllowed ? 'block' : 'none';\n",
              "}\n",
              "\n",
              "        displayQuickchartButton(document);\n",
              "      </script>\n",
              "      <style>\n",
              "    .colab-df-container {\n",
              "      display:flex;\n",
              "      flex-wrap:wrap;\n",
              "      gap: 12px;\n",
              "    }\n",
              "\n",
              "    .colab-df-convert {\n",
              "      background-color: #E8F0FE;\n",
              "      border: none;\n",
              "      border-radius: 50%;\n",
              "      cursor: pointer;\n",
              "      display: none;\n",
              "      fill: #1967D2;\n",
              "      height: 32px;\n",
              "      padding: 0 0 0 0;\n",
              "      width: 32px;\n",
              "    }\n",
              "\n",
              "    .colab-df-convert:hover {\n",
              "      background-color: #E2EBFA;\n",
              "      box-shadow: 0px 1px 2px rgba(60, 64, 67, 0.3), 0px 1px 3px 1px rgba(60, 64, 67, 0.15);\n",
              "      fill: #174EA6;\n",
              "    }\n",
              "\n",
              "    [theme=dark] .colab-df-convert {\n",
              "      background-color: #3B4455;\n",
              "      fill: #D2E3FC;\n",
              "    }\n",
              "\n",
              "    [theme=dark] .colab-df-convert:hover {\n",
              "      background-color: #434B5C;\n",
              "      box-shadow: 0px 1px 3px 1px rgba(0, 0, 0, 0.15);\n",
              "      filter: drop-shadow(0px 1px 2px rgba(0, 0, 0, 0.3));\n",
              "      fill: #FFFFFF;\n",
              "    }\n",
              "  </style>\n",
              "\n",
              "      <script>\n",
              "        const buttonEl =\n",
              "          document.querySelector('#df-412a908a-7229-4a39-9a18-77759be30e32 button.colab-df-convert');\n",
              "        buttonEl.style.display =\n",
              "          google.colab.kernel.accessAllowed ? 'block' : 'none';\n",
              "\n",
              "        async function convertToInteractive(key) {\n",
              "          const element = document.querySelector('#df-412a908a-7229-4a39-9a18-77759be30e32');\n",
              "          const dataTable =\n",
              "            await google.colab.kernel.invokeFunction('convertToInteractive',\n",
              "                                                     [key], {});\n",
              "          if (!dataTable) return;\n",
              "\n",
              "          const docLinkHtml = 'Like what you see? Visit the ' +\n",
              "            '<a target=\"_blank\" href=https://colab.research.google.com/notebooks/data_table.ipynb>data table notebook</a>'\n",
              "            + ' to learn more about interactive tables.';\n",
              "          element.innerHTML = '';\n",
              "          dataTable['output_type'] = 'display_data';\n",
              "          await google.colab.output.renderOutput(dataTable, element);\n",
              "          const docLink = document.createElement('div');\n",
              "          docLink.innerHTML = docLinkHtml;\n",
              "          element.appendChild(docLink);\n",
              "        }\n",
              "      </script>\n",
              "    </div>\n",
              "  </div>\n"
            ],
            "text/plain": [
              "  school_state project_grade_category  \\\n",
              "0           IN          grades_prek-2   \n",
              "1           FL             grades_6-8   \n",
              "\n",
              "   teacher_number_of_previously_posted_projects  project_submitted_month  \\\n",
              "0                                             0                       12   \n",
              "1                                             7                       10   \n",
              "\n",
              "   project_submitted_year teacher_gender  price  project_is_approved  \\\n",
              "0                    2016         Female  4.445                    0   \n",
              "1                    2016           Male  5.700                    1   \n",
              "\n",
              "                             processed_project_essay  \\\n",
              "0  student english learner work english second la...   \n",
              "1  student arrive school eager learn  polite gene...   \n",
              "\n",
              "                    processed_project_title  \\\n",
              "0  educational support english learner home   \n",
              "1             want projector hungry learner   \n",
              "\n",
              "  processed_project_subject_categories processed_project_subject_subcategories  \n",
              "0                    literacy language                            esl literacy  \n",
              "1           history civic health sport            civics government team sport  "
            ]
          },
          "execution_count": 4,
          "metadata": {},
          "output_type": "execute_result"
        }
      ],
      "source": [
        "df.head(2)"
      ]
    },
    {
      "cell_type": "code",
      "execution_count": 5,
      "metadata": {
        "colab": {
          "base_uri": "https://localhost:8080/"
        },
        "id": "Z8evGebKdbo5",
        "outputId": "99cc92f5-adee-4bb0-8996-46830073512d"
      },
      "outputs": [
        {
          "data": {
            "text/plain": [
              "(107035, 12)"
            ]
          },
          "execution_count": 5,
          "metadata": {},
          "output_type": "execute_result"
        }
      ],
      "source": [
        "df.shape"
      ]
    },
    {
      "cell_type": "code",
      "execution_count": 6,
      "metadata": {
        "colab": {
          "base_uri": "https://localhost:8080/"
        },
        "id": "q2R4wf5wdREy",
        "outputId": "fa8e5fbb-a476-4d08-ab36-d9b4b81636f4"
      },
      "outputs": [
        {
          "data": {
            "text/plain": [
              "school_state                                    0.000000\n",
              "project_grade_category                          0.000000\n",
              "teacher_number_of_previously_posted_projects    0.000000\n",
              "project_submitted_month                         0.000000\n",
              "project_submitted_year                          0.000000\n",
              "teacher_gender                                  0.000000\n",
              "price                                           0.000000\n",
              "project_is_approved                             0.000000\n",
              "processed_project_essay                         0.000000\n",
              "processed_project_title                         0.040174\n",
              "processed_project_subject_categories            0.000000\n",
              "processed_project_subject_subcategories         0.772644\n",
              "dtype: float64"
            ]
          },
          "execution_count": 6,
          "metadata": {},
          "output_type": "execute_result"
        }
      ],
      "source": [
        "# Missing value treatment: checking null values in the data\n",
        "df.isnull().sum()/len(df) * 100"
      ]
    },
    {
      "cell_type": "code",
      "execution_count": 7,
      "metadata": {
        "id": "NR3KR9dAF3NR"
      },
      "outputs": [],
      "source": [
        "df.fillna('', inplace=True)"
      ]
    },
    {
      "cell_type": "code",
      "execution_count": 8,
      "metadata": {
        "colab": {
          "base_uri": "https://localhost:8080/"
        },
        "id": "HQca-yK_dVL5",
        "outputId": "e31d7ae2-74fd-4645-c364-23653e0a4db8"
      },
      "outputs": [
        {
          "name": "stdout",
          "output_type": "stream",
          "text": [
            "<class 'pandas.core.frame.DataFrame'>\n",
            "RangeIndex: 107035 entries, 0 to 107034\n",
            "Data columns (total 12 columns):\n",
            " #   Column                                        Non-Null Count   Dtype  \n",
            "---  ------                                        --------------   -----  \n",
            " 0   school_state                                  107035 non-null  object \n",
            " 1   project_grade_category                        107035 non-null  object \n",
            " 2   teacher_number_of_previously_posted_projects  107035 non-null  int64  \n",
            " 3   project_submitted_month                       107035 non-null  int64  \n",
            " 4   project_submitted_year                        107035 non-null  int64  \n",
            " 5   teacher_gender                                107035 non-null  object \n",
            " 6   price                                         107035 non-null  float64\n",
            " 7   project_is_approved                           107035 non-null  int64  \n",
            " 8   processed_project_essay                       107035 non-null  object \n",
            " 9   processed_project_title                       107035 non-null  object \n",
            " 10  processed_project_subject_categories          107035 non-null  object \n",
            " 11  processed_project_subject_subcategories       107035 non-null  object \n",
            "dtypes: float64(1), int64(4), object(7)\n",
            "memory usage: 9.8+ MB\n"
          ]
        }
      ],
      "source": [
        "df.info()"
      ]
    },
    {
      "cell_type": "code",
      "execution_count": 9,
      "metadata": {
        "id": "vea3TIZW2uBF"
      },
      "outputs": [],
      "source": [
        "# Change the dtype for categorical random variables\n",
        "df = df.astype({\"school_state\":'category', \"project_grade_category\":'category' ,\"project_submitted_month\":'category',\"project_submitted_year\":'category',\"teacher_gender\":'category'})"
      ]
    },
    {
      "cell_type": "markdown",
      "metadata": {
        "id": "3u81AXD-vKNl"
      },
      "source": [
        "- Perform Binary/Label Encoding for categorical variables `project_submitted_year`, `teacher_gender`."
      ]
    },
    {
      "cell_type": "code",
      "execution_count": 10,
      "metadata": {
        "id": "0NUw3UF-Zyxy"
      },
      "outputs": [],
      "source": [
        "# teacher_gender\n",
        "teacher_gender_mapping = {'Male': 0 , 'Female': 1, 'Other':2}\n",
        "df['teacher_gender'] = df['teacher_gender'].map(teacher_gender_mapping)\n",
        "\n",
        "# project_submitted_year\n",
        "df['project_submitted_year'] = df['project_submitted_year'].apply(lambda x: 0 if x==2016 else 1)"
      ]
    },
    {
      "cell_type": "markdown",
      "metadata": {
        "id": "wnc84R7oMQ_0"
      },
      "source": [
        "#### Data Preparation"
      ]
    },
    {
      "cell_type": "code",
      "execution_count": 11,
      "metadata": {
        "id": "rjVUZHpp5_fF"
      },
      "outputs": [],
      "source": [
        "# Defining X and Y\n",
        "X = df[df.columns.drop(\"project_is_approved\")]\n",
        "y = df[\"project_is_approved\"]"
      ]
    },
    {
      "cell_type": "code",
      "execution_count": 12,
      "metadata": {
        "colab": {
          "base_uri": "https://localhost:8080/"
        },
        "id": "JKjf3h_g58yp",
        "outputId": "80b707cb-b502-4cd3-dd04-42870cd86689"
      },
      "outputs": [
        {
          "name": "stdout",
          "output_type": "stream",
          "text": [
            "Shape of the Train set: (74924, 11) and Shape of the Test set: (32111, 11).\n"
          ]
        }
      ],
      "source": [
        "# train-val-test split\n",
        "from sklearn.model_selection import train_test_split\n",
        "\n",
        "X_train_cv, X_test, y_train_cv, y_test = train_test_split(X, y, test_size=0.3, random_state=3, stratify=y)\n",
        "print(f\"Shape of the Train set: {X_train_cv.shape} and Shape of the Test set: {X_test.shape}.\" )"
      ]
    },
    {
      "cell_type": "markdown",
      "metadata": {
        "id": "WkWnv_f_ECPE"
      },
      "source": [
        "- Apply Tf-Idf and one-hot encoding for feature extraction of textual columns."
      ]
    },
    {
      "cell_type": "code",
      "execution_count": 13,
      "metadata": {
        "id": "4DI4MMg4PE1T"
      },
      "outputs": [],
      "source": [
        "def tf_idf_encoding_process(df_train, df_test):\n",
        "\n",
        "  from scipy.sparse import hstack as hs\n",
        "  # Using inbuilt TfidfVectorizer() function to calculate TF-IDF\n",
        "  from sklearn.feature_extraction.text import TfidfVectorizer\n",
        "\n",
        "  # Instantiate the vectorizer object\n",
        "  tf_idf_vectorizer = TfidfVectorizer(min_df=5)\n",
        "\n",
        "  # For the column processed_project_title\n",
        "  train_tfidf_matrix_title = tf_idf_vectorizer.fit_transform(df_train['processed_project_title'])\n",
        "  test_tfidf_matrix_title = tf_idf_vectorizer.transform(df_test['processed_project_title'])\n",
        "\n",
        "  # For the column processed_project_essay\n",
        "  train_tfidf_matrix_essay = tf_idf_vectorizer.fit_transform(df_train['processed_project_essay'])\n",
        "  test_tfidf_matrix_essay = tf_idf_vectorizer.transform(df_test['processed_project_title'])\n",
        "\n",
        "  # For the column processed_project_subject_categories\n",
        "  train_tfidf_matrix_cat = tf_idf_vectorizer.fit_transform(df_train['processed_project_subject_categories'])\n",
        "  test_tfidf_matrix_cat = tf_idf_vectorizer.transform(df_test['processed_project_subject_categories'])\n",
        "\n",
        "  # For the column processed_project_subject_subcategories\n",
        "  train_tfidf_matrix_subcat = tf_idf_vectorizer.fit_transform(df_train['processed_project_subject_subcategories'])\n",
        "  test_tfidf_matrix_subcat = tf_idf_vectorizer.transform(df_test['processed_project_subject_subcategories'])\n",
        "\n",
        "  # Display the shapes of the sparse matrices\n",
        "  print(\"Train tfidf:\", train_tfidf_matrix_title.shape, train_tfidf_matrix_essay.shape, train_tfidf_matrix_cat.shape, train_tfidf_matrix_subcat.shape)\n",
        "  print(\"Test tfidf:\", test_tfidf_matrix_title.shape, test_tfidf_matrix_essay.shape, test_tfidf_matrix_cat.shape, test_tfidf_matrix_subcat.shape)\n",
        "\n",
        "  # Stack the transformed values of each set into a single sparse matrix\n",
        "  train_tf_idf_mat = hs((train_tfidf_matrix_title, train_tfidf_matrix_essay, train_tfidf_matrix_cat, train_tfidf_matrix_subcat))\n",
        "  test_tf_idf_mat = hs((test_tfidf_matrix_title, test_tfidf_matrix_essay, test_tfidf_matrix_cat, test_tfidf_matrix_subcat))\n",
        "\n",
        "  # Prepare the matrix for each set after tf-idf has been applied to the required features\n",
        "  df_train_tf_idf = hs((df_train[['teacher_number_of_previously_posted_projects', 'project_submitted_month', 'project_submitted_year',\t'teacher_gender', 'price']].values, train_tf_idf_mat))\n",
        "  df_test_tf_idf = hs((df_test[['teacher_number_of_previously_posted_projects', 'project_submitted_month', 'project_submitted_year',\t'teacher_gender', 'price']].values, test_tf_idf_mat))\n",
        "  print(f\"Train tfidf: {df_train_tf_idf.shape}; Test tfidf: {df_test_tf_idf.shape}\")\n",
        "\n",
        "  return df_train_tf_idf, df_test_tf_idf"
      ]
    },
    {
      "cell_type": "markdown",
      "metadata": {
        "id": "m8pr6fqR8eyF"
      },
      "source": [
        "- Perform one-hot encoding on other nominal categorical variables"
      ]
    },
    {
      "cell_type": "code",
      "execution_count": 14,
      "metadata": {
        "id": "g9P693O7EJ2b"
      },
      "outputs": [],
      "source": [
        "def one_hot_encoding_process(df_train, df_test):\n",
        "\n",
        "  from scipy.sparse import hstack as hs\n",
        "  # Using inbuilt CountVectorizer() function to do one-hot encoding on the required features\n",
        "  from sklearn.feature_extraction.text import CountVectorizer\n",
        "\n",
        "  # Instantiate the countvectorizer object\n",
        "  vect = CountVectorizer()\n",
        "\n",
        "  # For the column school_state\n",
        "  train_school_one_hot = vect.fit_transform(df_train['school_state'].values)\n",
        "  test_school_one_hot = vect.transform(df_test['school_state'].values)\n",
        "\n",
        "  # For the column project_grade_category\n",
        "  vect = CountVectorizer()\n",
        "  train_grade_one_hot = vect.fit_transform(df_train['project_grade_category'].values)\n",
        "  test_grade_one_hot = vect.transform(df_test['project_grade_category'].values)\n",
        "\n",
        "  # Stack the transformed values of each set into a single sparse matrix\n",
        "  df_train_one_hot = hs(( train_school_one_hot, train_grade_one_hot))\n",
        "  df_test_one_hot = hs((test_school_one_hot, test_grade_one_hot))\n",
        "\n",
        "  # Display the shapes of the sparse matrices\n",
        "  print(f\"Train one-hot:{df_train_one_hot.shape};  Test one-hot:{df_test_one_hot.shape}\")\n",
        "\n",
        "  return df_train_one_hot, df_test_one_hot"
      ]
    },
    {
      "cell_type": "code",
      "execution_count": 15,
      "metadata": {
        "colab": {
          "base_uri": "https://localhost:8080/"
        },
        "id": "b6mzUdFEDfj1",
        "outputId": "0b6a7bbd-41cb-4f55-9c8f-ee178db2f908"
      },
      "outputs": [
        {
          "name": "stdout",
          "output_type": "stream",
          "text": [
            "Train tfidf: (74924, 3287) (74924, 16640) (74924, 18) (74924, 47)\n",
            "Test tfidf: (32111, 3287) (32111, 16640) (32111, 18) (32111, 47)\n",
            "Train tfidf: (74924, 19997); Test tfidf: (32111, 19997)\n",
            "Train one-hot:(74924, 56);  Test one-hot:(32111, 56)\n"
          ]
        }
      ],
      "source": [
        "# Apply TfIdf and Count Vectorizer to the required categorical features and obtain the transformed X_train_fin, X_test_fin to use for modelling\n",
        "\n",
        "X_train_tf_idf, X_test_tf_idf = tf_idf_encoding_process(X_train_cv, X_test)\n",
        "X_train_one_hot, X_test_one_hot = one_hot_encoding_process(X_train_cv, X_test)"
      ]
    },
    {
      "cell_type": "code",
      "execution_count": 16,
      "metadata": {
        "colab": {
          "base_uri": "https://localhost:8080/"
        },
        "id": "s6QOFOP8cSht",
        "outputId": "ca7b8183-b25c-495f-a38f-0cc1347eb030"
      },
      "outputs": [
        {
          "name": "stdout",
          "output_type": "stream",
          "text": [
            "Train Final: (74924, 20053); Test Final: (32111, 20053)\n"
          ]
        }
      ],
      "source": [
        "from scipy.sparse import hstack as hs\n",
        "X_train_fin = hs((X_train_one_hot, X_train_tf_idf))\n",
        "X_test_fin = hs((X_test_one_hot, X_test_tf_idf))\n",
        "\n",
        "print(f\"Train Final: {X_train_fin.shape}; Test Final: {X_test_fin.shape}\")"
      ]
    },
    {
      "cell_type": "markdown",
      "metadata": {
        "id": "0m7iUcJ_helX"
      },
      "source": [
        "#### Training"
      ]
    },
    {
      "cell_type": "markdown",
      "metadata": {
        "id": "6P1zpQX0X21L"
      },
      "source": [
        "Baseline - using class imbalance with Logistic Regression:  <br>\n",
        "- Best validation Accuracy: 0.74900733404961  <br>\n",
        "- Test Accuracy: 0.7526042883169057 <br>\n",
        "- roc-auc = 0.6119873650832763\n"
      ]
    },
    {
      "cell_type": "markdown",
      "metadata": {
        "id": "6QpTeLsF42Bb"
      },
      "source": [
        "#### Logistic Regression"
      ]
    },
    {
      "cell_type": "code",
      "execution_count": 18,
      "metadata": {
        "colab": {
          "base_uri": "https://localhost:8080/"
        },
        "id": "SFdS79IPG_pp",
        "outputId": "2ab1b1e2-5e3a-4727-dc3b-6582eaaefa08"
      },
      "outputs": [
        {
          "name": "stdout",
          "output_type": "stream",
          "text": [
            "Best C: 1e-05\n",
            "Best score: (ROC-AUC score=0.673)\n"
          ]
        }
      ],
      "source": [
        "from sklearn.linear_model import LogisticRegression\n",
        "from sklearn.model_selection import GridSearchCV\n",
        "from sklearn.preprocessing import StandardScaler\n",
        "from sklearn.pipeline import Pipeline\n",
        "\n",
        "# Calculate class weights to account for class imbalance\n",
        "class_weights = {0: 1/0.2, 1: 1/0.8}  # Manually calculate the inverse of class frequencies\n",
        "\n",
        "# Instantiate the model object\n",
        "scaler = StandardScaler(with_mean=False)\n",
        "logistic = LogisticRegression(class_weight=class_weights, random_state=6)\n",
        "\n",
        "# Create a pipeline with StandardScaler and Multinomial Naive Bayes\n",
        "pipeline = Pipeline([('scaler', scaler), ('logistic_reg', logistic)])\n",
        "\n",
        "# Define the parameter grid for grid search\n",
        "C = np.logspace(-5, 5, 50)\n",
        "param_grid = {'logistic_reg__C': C}  # Add more values if needed\n",
        "\n",
        "# Create an instance of GridSearchCV\n",
        "grid_search = GridSearchCV(estimator=pipeline, param_grid=param_grid, cv=3, scoring='roc_auc', return_train_score=True, n_jobs=-1, error_score='raise')\n",
        "\n",
        "# Train the model with weighted samples and perform grid search\n",
        "grid_search.fit(X_train_fin, y_train_cv, logistic_reg__sample_weight=np.vectorize(class_weights.get)(y_train_cv))\n",
        "\n",
        "# Get the best alpha value from the grid search\n",
        "best_C = grid_search.best_params_['logistic_reg__C']\n",
        "\n",
        "print('Best C:', grid_search.best_estimator_.get_params()['logistic_reg__C'])\n",
        "print(\"Best score: (ROC-AUC score=%0.3f)\" % grid_search.best_score_)\n",
        "\n",
        "# Train the final model with the best alpha and weighted samples\n",
        "final_model = pipeline.set_params(logistic_reg__C=best_C)\n",
        "final_model.fit(X_train_fin, y_train_cv, logistic_reg__sample_weight=np.vectorize(class_weights.get)(y_train_cv))\n",
        "\n",
        "# Make predictions on the test set\n",
        "y_pred = final_model.predict(X_test_fin)"
      ]
    },
    {
      "cell_type": "markdown",
      "metadata": {
        "id": "BYeLsApiuZOL"
      },
      "source": [
        "#### Evaluation of Classification Metrics"
      ]
    },
    {
      "cell_type": "markdown",
      "metadata": {
        "id": "xCkp_mNX06y6"
      },
      "source": [
        "ROC-AUC Curce"
      ]
    },
    {
      "cell_type": "code",
      "execution_count": 19,
      "metadata": {
        "colab": {
          "base_uri": "https://localhost:8080/",
          "height": 449
        },
        "id": "cAa6ZMHgF79Y",
        "outputId": "e9a1eb4c-e84a-42e8-df92-552ac1186d8d"
      },
      "outputs": [
        {
          "data": {
            "image/png": "[encoded data removed]",
            "text/plain": [
              "<Figure size 550x450 with 1 Axes>"
            ]
          },
          "metadata": {},
          "output_type": "display_data"
        }
      ],
      "source": [
        "import matplotlib.pyplot as plt\n",
        "from sklearn.metrics import roc_curve, roc_auc_score\n",
        "\n",
        "# Make predictions on train and test set probabilities\n",
        "y_train_probs = final_model.predict_proba(X_train_fin)[:, 1]\n",
        "y_test_probs = final_model.predict_proba(X_test_fin)[:, 1]\n",
        "\n",
        "# Calculate ROC-AUC scores\n",
        "train_roc_auc = roc_auc_score(y_train_cv, y_train_probs)\n",
        "test_roc_auc = roc_auc_score(y_test, y_test_probs)\n",
        "\n",
        "# Calculate ROC curves\n",
        "train_fpr, train_tpr, _ = roc_curve(y_train_cv, y_train_probs)\n",
        "test_fpr, test_tpr, _ = roc_curve(y_test, y_test_probs)\n",
        "\n",
        "# Plot ROC curves\n",
        "plt.figure(figsize=(5.5, 4.5))\n",
        "plt.plot(train_fpr, train_tpr, label='Train ROC Curve (AUC = {:.2f})'.format(train_roc_auc))\n",
        "plt.plot(test_fpr, test_tpr, label='Test ROC Curve (AUC = {:.2f})'.format(test_roc_auc))\n",
        "plt.plot([0, 1], [0, 1], 'k--', label='Random')\n",
        "plt.xlabel('False Positive Rate')\n",
        "plt.ylabel('True Positive Rate')\n",
        "plt.title('Receiver Operating Characteristic')\n",
        "plt.legend(loc='lower right')\n",
        "plt.show()\n"
      ]
    },
    {
      "cell_type": "code",
      "execution_count": 21,
      "metadata": {
        "colab": {
          "base_uri": "https://localhost:8080/",
          "height": 584
        },
        "id": "Dwya8QOtGThH",
        "outputId": "7ef0362b-6540-46d8-a684-879c9f9e494b"
      },
      "outputs": [
        {
          "data": {
            "image/png": "[encoded data removed]",
            "text/plain": [
              "<Figure size 600x400 with 2 Axes>"
            ]
          },
          "metadata": {},
          "output_type": "display_data"
        },
        {
          "name": "stdout",
          "output_type": "stream",
          "text": [
            "Classification Report:\n",
            "               precision    recall  f1-score   support\n",
            "\n",
            "           0       0.23      0.32      0.27      4919\n",
            "           1       0.87      0.81      0.84     27192\n",
            "\n",
            "    accuracy                           0.73     32111\n",
            "   macro avg       0.55      0.56      0.55     32111\n",
            "weighted avg       0.77      0.73      0.75     32111\n",
            "\n"
          ]
        }
      ],
      "source": [
        "import seaborn as sns\n",
        "from sklearn.metrics import confusion_matrix, classification_report\n",
        "\n",
        "# Make predictions on the test set\n",
        "y_pred = final_model.predict(X_test_fin)\n",
        "\n",
        "# Calculate the confusion matrix\n",
        "cm = confusion_matrix(y_test, y_pred)\n",
        "\n",
        "# Plot the confusion matrix\n",
        "plt.figure(figsize=(6, 4))\n",
        "sns.heatmap(cm, annot=True, fmt='d', cmap='Blues')\n",
        "plt.title('Confusion Matrix')\n",
        "plt.xlabel('Predicted Labels')\n",
        "plt.ylabel('True Labels')\n",
        "plt.show()\n",
        "\n",
        "# Display the classification report\n",
        "print(\"Classification Report:\\n\", classification_report(y_test, y_pred))\n"
      ]
    }
  ],
  "metadata": {
    "accelerator": "GPU",
    "colab": {
      "gpuType": "T4",
      "provenance": []
    },
    "kernelspec": {
      "display_name": "Python 3",
      "name": "python3"
    },
    "language_info": {
      "name": "python"
    }
  },
  "nbformat": 4,
  "nbformat_minor": 0
}
